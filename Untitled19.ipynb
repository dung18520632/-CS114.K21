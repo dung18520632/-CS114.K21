{
  "nbformat": 4,
  "nbformat_minor": 0,
  "metadata": {
    "colab": {
      "name": "Untitled19.ipynb",
      "provenance": [],
      "authorship_tag": "ABX9TyM9hg0ho/lm0NulggRB507M",
      "include_colab_link": true
    },
    "kernelspec": {
      "name": "python3",
      "display_name": "Python 3"
    }
  },
  "cells": [
    {
      "cell_type": "markdown",
      "metadata": {
        "id": "view-in-github",
        "colab_type": "text"
      },
      "source": [
        "<a href=\"https://colab.research.google.com/github/dung18520632/CS114.K21/blob/master/Untitled19.ipynb\" target=\"_parent\"><img src=\"https://colab.research.google.com/assets/colab-badge.svg\" alt=\"Open In Colab\"/></a>"
      ]
    },
    {
      "cell_type": "code",
      "metadata": {
        "id": "UUUki8K9KZvp",
        "colab_type": "code",
        "colab": {}
      },
      "source": [
        "import requests\n",
        "from bs4 import BeautifulSoup"
      ],
      "execution_count": 5,
      "outputs": []
    },
    {
      "cell_type": "code",
      "metadata": {
        "id": "rKk1xdxIKdTI",
        "colab_type": "code",
        "colab": {}
      },
      "source": [
        "def get_data(page): \n",
        "  response = requests.get(\"https://vnexpress.net/phap-luat-p\"+str(page))\n",
        "  soup = BeautifulSoup(response.content, \"html.parser\")\n",
        "  titles = soup.findAll('h3', class_='title-news')\n",
        "  links = [link.find('a').attrs[\"href\"] for link in titles]\n",
        "  data=[]\n",
        "  for link in links:\n",
        "    link=requests.get(link)\n",
        "    soup = BeautifulSoup(link.content, \"html.parser\")\n",
        "    title = soup.find(\"h1\", class_=\"title-detail\")\n",
        "    date=soup.find(\"span\",class_=\"date\")\n",
        "    data_1=[]\n",
        "    if title is not None:\n",
        "      ementa = title.text\n",
        "      data_1.append(ementa)\n",
        "    else:\n",
        "      ementa = None\n",
        "    if date is not None:\n",
        "      ementa1 = date.text\n",
        "      data_1.append(ementa1)\n",
        "    else:\n",
        "      ementa1 = None\n",
        "    data.append(data_1)\n",
        "  return data"
      ],
      "execution_count": 14,
      "outputs": []
    },
    {
      "cell_type": "code",
      "metadata": {
        "id": "7wEuMo5ANoeC",
        "colab_type": "code",
        "colab": {}
      },
      "source": [
        "results =[]\n",
        "for i in range(1,5):\n",
        "  results.append(get_data(i))"
      ],
      "execution_count": 15,
      "outputs": []
    },
    {
      "cell_type": "code",
      "metadata": {
        "id": "bCNdnEywUb1i",
        "colab_type": "code",
        "colab": {}
      },
      "source": [
        "import pandas as pd"
      ],
      "execution_count": 19,
      "outputs": []
    },
    {
      "cell_type": "code",
      "metadata": {
        "id": "mKbfw6xRQ2O1",
        "colab_type": "code",
        "colab": {}
      },
      "source": [
        "flatten = lambda l: [item for sublist in l for item in sublist]\n",
        "df = pd.DataFrame(flatten(results),columns=['Title','Date'])\n",
        "df.to_csv('vnexpress.csv', index=False, encoding='utf-8')"
      ],
      "execution_count": 20,
      "outputs": []
    },
    {
      "cell_type": "code",
      "metadata": {
        "id": "ScJUTlTLUgfa",
        "colab_type": "code",
        "colab": {}
      },
      "source": [
        "df = pd.read_csv(\"vnexpress.csv\")"
      ],
      "execution_count": 114,
      "outputs": []
    },
    {
      "cell_type": "code",
      "metadata": {
        "id": "mlyT947iUqEC",
        "colab_type": "code",
        "colab": {
          "base_uri": "https://localhost:8080/",
          "height": 402
        },
        "outputId": "ff40ca9d-44e2-4e8d-eb01-c1e5158620b2"
      },
      "source": [
        "df.head(61)"
      ],
      "execution_count": 115,
      "outputs": [
        {
          "output_type": "execute_result",
          "data": {
            "text/html": [
              "<div>\n",
              "<style scoped>\n",
              "    .dataframe tbody tr th:only-of-type {\n",
              "        vertical-align: middle;\n",
              "    }\n",
              "\n",
              "    .dataframe tbody tr th {\n",
              "        vertical-align: top;\n",
              "    }\n",
              "\n",
              "    .dataframe thead th {\n",
              "        text-align: right;\n",
              "    }\n",
              "</style>\n",
              "<table border=\"1\" class=\"dataframe\">\n",
              "  <thead>\n",
              "    <tr style=\"text-align: right;\">\n",
              "      <th></th>\n",
              "      <th>Title</th>\n",
              "      <th>Date</th>\n",
              "    </tr>\n",
              "  </thead>\n",
              "  <tbody>\n",
              "    <tr>\n",
              "      <th>0</th>\n",
              "      <td>Nhóm giả danh công ty xổ số lừa 4 tỷ đồng</td>\n",
              "      <td>Thứ sáu, 18/9/2020, 14:14 (GMT+7)</td>\n",
              "    </tr>\n",
              "    <tr>\n",
              "      <th>1</th>\n",
              "      <td>Chủ tịch Gold Time bị điều tra lừa hơn 800 tỷ ...</td>\n",
              "      <td>Thứ sáu, 18/9/2020, 09:28 (GMT+7)</td>\n",
              "    </tr>\n",
              "    <tr>\n",
              "      <th>2</th>\n",
              "      <td>Tài xế bị bắt vì đấm cảnh sát giao thông</td>\n",
              "      <td>Thứ sáu, 18/9/2020, 08:19 (GMT+7)</td>\n",
              "    </tr>\n",
              "    <tr>\n",
              "      <th>3</th>\n",
              "      <td>24 giờ phá vụ án 'thi thể trong hòm sắt'</td>\n",
              "      <td>Thứ sáu, 18/9/2020, 00:00 (GMT+7)</td>\n",
              "    </tr>\n",
              "    <tr>\n",
              "      <th>4</th>\n",
              "      <td>Đặc vụ FBI hướng dẫn ‘đọc vị’ người nói dối</td>\n",
              "      <td>Thứ sáu, 18/9/2020, 00:00 (GMT+7)</td>\n",
              "    </tr>\n",
              "    <tr>\n",
              "      <th>...</th>\n",
              "      <td>...</td>\n",
              "      <td>...</td>\n",
              "    </tr>\n",
              "    <tr>\n",
              "      <th>56</th>\n",
              "      <td>Xét xử nhóm đưa người ra nước ngoài trái phép</td>\n",
              "      <td>Thứ hai, 14/9/2020, 18:43 (GMT+7)</td>\n",
              "    </tr>\n",
              "    <tr>\n",
              "      <th>57</th>\n",
              "      <td>Hơn 148.000 người bị kết án tù trong 10 tháng</td>\n",
              "      <td>Thứ hai, 14/9/2020, 18:27 (GMT+7)</td>\n",
              "    </tr>\n",
              "    <tr>\n",
              "      <th>58</th>\n",
              "      <td>Trưởng công an xã bị chém khi nhắc không gây ồn</td>\n",
              "      <td>Thứ hai, 14/9/2020, 18:16 (GMT+7)</td>\n",
              "    </tr>\n",
              "    <tr>\n",
              "      <th>59</th>\n",
              "      <td>Hai người bị tuyên tử hình trong vụ Đồng Tâm</td>\n",
              "      <td>Thứ hai, 14/9/2020, 16:47 (GMT+7)</td>\n",
              "    </tr>\n",
              "    <tr>\n",
              "      <th>60</th>\n",
              "      <td>Cựu giám đốc CDC Hà Nội phủ nhận hưởng 15% giá...</td>\n",
              "      <td>Thứ hai, 14/9/2020, 16:25 (GMT+7)</td>\n",
              "    </tr>\n",
              "  </tbody>\n",
              "</table>\n",
              "<p>61 rows × 2 columns</p>\n",
              "</div>"
            ],
            "text/plain": [
              "                                                Title                               Date\n",
              "0           Nhóm giả danh công ty xổ số lừa 4 tỷ đồng  Thứ sáu, 18/9/2020, 14:14 (GMT+7)\n",
              "1   Chủ tịch Gold Time bị điều tra lừa hơn 800 tỷ ...  Thứ sáu, 18/9/2020, 09:28 (GMT+7)\n",
              "2            Tài xế bị bắt vì đấm cảnh sát giao thông  Thứ sáu, 18/9/2020, 08:19 (GMT+7)\n",
              "3            24 giờ phá vụ án 'thi thể trong hòm sắt'  Thứ sáu, 18/9/2020, 00:00 (GMT+7)\n",
              "4         Đặc vụ FBI hướng dẫn ‘đọc vị’ người nói dối  Thứ sáu, 18/9/2020, 00:00 (GMT+7)\n",
              "..                                                ...                                ...\n",
              "56      Xét xử nhóm đưa người ra nước ngoài trái phép  Thứ hai, 14/9/2020, 18:43 (GMT+7)\n",
              "57      Hơn 148.000 người bị kết án tù trong 10 tháng  Thứ hai, 14/9/2020, 18:27 (GMT+7)\n",
              "58    Trưởng công an xã bị chém khi nhắc không gây ồn  Thứ hai, 14/9/2020, 18:16 (GMT+7)\n",
              "59       Hai người bị tuyên tử hình trong vụ Đồng Tâm  Thứ hai, 14/9/2020, 16:47 (GMT+7)\n",
              "60  Cựu giám đốc CDC Hà Nội phủ nhận hưởng 15% giá...  Thứ hai, 14/9/2020, 16:25 (GMT+7)\n",
              "\n",
              "[61 rows x 2 columns]"
            ]
          },
          "metadata": {
            "tags": []
          },
          "execution_count": 115
        }
      ]
    },
    {
      "cell_type": "code",
      "metadata": {
        "id": "xARb23VhVdF2",
        "colab_type": "code",
        "colab": {}
      },
      "source": [
        "df[\"Date\"] = df[\"Date\"].str.replace(',', '')\n",
        "df[\"Date\"] = df[\"Date\"].str.replace('/', '-')\n"
      ],
      "execution_count": 116,
      "outputs": []
    },
    {
      "cell_type": "code",
      "metadata": {
        "id": "dAm9AOPPZA9A",
        "colab_type": "code",
        "colab": {}
      },
      "source": [
        "df['Date'] = df['Date'].astype(str)"
      ],
      "execution_count": 117,
      "outputs": []
    },
    {
      "cell_type": "code",
      "metadata": {
        "id": "aY0BN3oGa5wt",
        "colab_type": "code",
        "colab": {
          "base_uri": "https://localhost:8080/",
          "height": 218
        },
        "outputId": "2c588fc4-5197-434c-f73e-32d724a2e5fc"
      },
      "source": [
        "print(df['Date'])"
      ],
      "execution_count": 118,
      "outputs": [
        {
          "output_type": "stream",
          "text": [
            "0      Thứ sáu 18-9-2020 14:14 (GMT+7)\n",
            "1      Thứ sáu 18-9-2020 09:28 (GMT+7)\n",
            "2      Thứ sáu 18-9-2020 08:19 (GMT+7)\n",
            "3      Thứ sáu 18-9-2020 00:00 (GMT+7)\n",
            "4      Thứ sáu 18-9-2020 00:00 (GMT+7)\n",
            "                    ...               \n",
            "126      Thứ ba 8-9-2020 17:07 (GMT+7)\n",
            "127      Thứ ba 8-9-2020 16:52 (GMT+7)\n",
            "128      Thứ ba 8-9-2020 15:38 (GMT+7)\n",
            "129      Thứ ba 8-9-2020 15:10 (GMT+7)\n",
            "130      Thứ ba 8-9-2020 13:38 (GMT+7)\n",
            "Name: Date, Length: 131, dtype: object\n"
          ],
          "name": "stdout"
        }
      ]
    },
    {
      "cell_type": "code",
      "metadata": {
        "id": "UGQKGzO5YMox",
        "colab_type": "code",
        "colab": {}
      },
      "source": [
        "df['Date'] = df['Date'].apply(lambda x: x.split(\" \")[2:3])\n"
      ],
      "execution_count": 119,
      "outputs": []
    },
    {
      "cell_type": "code",
      "metadata": {
        "id": "AGA3TgraZgZx",
        "colab_type": "code",
        "colab": {
          "base_uri": "https://localhost:8080/",
          "height": 402
        },
        "outputId": "fcca8f7f-5b19-4fe0-9ef1-e35ea60aefa0"
      },
      "source": [
        "df.head(61)"
      ],
      "execution_count": 120,
      "outputs": [
        {
          "output_type": "execute_result",
          "data": {
            "text/html": [
              "<div>\n",
              "<style scoped>\n",
              "    .dataframe tbody tr th:only-of-type {\n",
              "        vertical-align: middle;\n",
              "    }\n",
              "\n",
              "    .dataframe tbody tr th {\n",
              "        vertical-align: top;\n",
              "    }\n",
              "\n",
              "    .dataframe thead th {\n",
              "        text-align: right;\n",
              "    }\n",
              "</style>\n",
              "<table border=\"1\" class=\"dataframe\">\n",
              "  <thead>\n",
              "    <tr style=\"text-align: right;\">\n",
              "      <th></th>\n",
              "      <th>Title</th>\n",
              "      <th>Date</th>\n",
              "    </tr>\n",
              "  </thead>\n",
              "  <tbody>\n",
              "    <tr>\n",
              "      <th>0</th>\n",
              "      <td>Nhóm giả danh công ty xổ số lừa 4 tỷ đồng</td>\n",
              "      <td>[18-9-2020]</td>\n",
              "    </tr>\n",
              "    <tr>\n",
              "      <th>1</th>\n",
              "      <td>Chủ tịch Gold Time bị điều tra lừa hơn 800 tỷ ...</td>\n",
              "      <td>[18-9-2020]</td>\n",
              "    </tr>\n",
              "    <tr>\n",
              "      <th>2</th>\n",
              "      <td>Tài xế bị bắt vì đấm cảnh sát giao thông</td>\n",
              "      <td>[18-9-2020]</td>\n",
              "    </tr>\n",
              "    <tr>\n",
              "      <th>3</th>\n",
              "      <td>24 giờ phá vụ án 'thi thể trong hòm sắt'</td>\n",
              "      <td>[18-9-2020]</td>\n",
              "    </tr>\n",
              "    <tr>\n",
              "      <th>4</th>\n",
              "      <td>Đặc vụ FBI hướng dẫn ‘đọc vị’ người nói dối</td>\n",
              "      <td>[18-9-2020]</td>\n",
              "    </tr>\n",
              "    <tr>\n",
              "      <th>...</th>\n",
              "      <td>...</td>\n",
              "      <td>...</td>\n",
              "    </tr>\n",
              "    <tr>\n",
              "      <th>56</th>\n",
              "      <td>Xét xử nhóm đưa người ra nước ngoài trái phép</td>\n",
              "      <td>[14-9-2020]</td>\n",
              "    </tr>\n",
              "    <tr>\n",
              "      <th>57</th>\n",
              "      <td>Hơn 148.000 người bị kết án tù trong 10 tháng</td>\n",
              "      <td>[14-9-2020]</td>\n",
              "    </tr>\n",
              "    <tr>\n",
              "      <th>58</th>\n",
              "      <td>Trưởng công an xã bị chém khi nhắc không gây ồn</td>\n",
              "      <td>[14-9-2020]</td>\n",
              "    </tr>\n",
              "    <tr>\n",
              "      <th>59</th>\n",
              "      <td>Hai người bị tuyên tử hình trong vụ Đồng Tâm</td>\n",
              "      <td>[14-9-2020]</td>\n",
              "    </tr>\n",
              "    <tr>\n",
              "      <th>60</th>\n",
              "      <td>Cựu giám đốc CDC Hà Nội phủ nhận hưởng 15% giá...</td>\n",
              "      <td>[14-9-2020]</td>\n",
              "    </tr>\n",
              "  </tbody>\n",
              "</table>\n",
              "<p>61 rows × 2 columns</p>\n",
              "</div>"
            ],
            "text/plain": [
              "                                                Title         Date\n",
              "0           Nhóm giả danh công ty xổ số lừa 4 tỷ đồng  [18-9-2020]\n",
              "1   Chủ tịch Gold Time bị điều tra lừa hơn 800 tỷ ...  [18-9-2020]\n",
              "2            Tài xế bị bắt vì đấm cảnh sát giao thông  [18-9-2020]\n",
              "3            24 giờ phá vụ án 'thi thể trong hòm sắt'  [18-9-2020]\n",
              "4         Đặc vụ FBI hướng dẫn ‘đọc vị’ người nói dối  [18-9-2020]\n",
              "..                                                ...          ...\n",
              "56      Xét xử nhóm đưa người ra nước ngoài trái phép  [14-9-2020]\n",
              "57      Hơn 148.000 người bị kết án tù trong 10 tháng  [14-9-2020]\n",
              "58    Trưởng công an xã bị chém khi nhắc không gây ồn  [14-9-2020]\n",
              "59       Hai người bị tuyên tử hình trong vụ Đồng Tâm  [14-9-2020]\n",
              "60  Cựu giám đốc CDC Hà Nội phủ nhận hưởng 15% giá...  [14-9-2020]\n",
              "\n",
              "[61 rows x 2 columns]"
            ]
          },
          "metadata": {
            "tags": []
          },
          "execution_count": 120
        }
      ]
    },
    {
      "cell_type": "code",
      "metadata": {
        "id": "myWqInMAfhw0",
        "colab_type": "code",
        "colab": {}
      },
      "source": [
        "df['Date'] = df['Date'].astype(str)"
      ],
      "execution_count": 112,
      "outputs": []
    },
    {
      "cell_type": "code",
      "metadata": {
        "id": "lZeVkOYfe3Hv",
        "colab_type": "code",
        "colab": {
          "base_uri": "https://localhost:8080/",
          "height": 303
        },
        "outputId": "79ad6e92-80d6-4271-cbc9-79924b786299"
      },
      "source": [
        "df['Date'] = pd.to_datetime(df['Date'])"
      ],
      "execution_count": 111,
      "outputs": [
        {
          "output_type": "error",
          "ename": "TypeError",
          "evalue": "ignored",
          "traceback": [
            "\u001b[0;31m---------------------------------------------------------------------------\u001b[0m",
            "\u001b[0;31mTypeError\u001b[0m                                 Traceback (most recent call last)",
            "\u001b[0;32m<ipython-input-111-b9c6864122be>\u001b[0m in \u001b[0;36m<module>\u001b[0;34m()\u001b[0m\n\u001b[0;32m----> 1\u001b[0;31m \u001b[0mdf\u001b[0m\u001b[0;34m[\u001b[0m\u001b[0;34m'Date'\u001b[0m\u001b[0;34m]\u001b[0m \u001b[0;34m=\u001b[0m \u001b[0mpd\u001b[0m\u001b[0;34m.\u001b[0m\u001b[0mto_datetime\u001b[0m\u001b[0;34m(\u001b[0m\u001b[0mdf\u001b[0m\u001b[0;34m[\u001b[0m\u001b[0;34m'Date'\u001b[0m\u001b[0;34m]\u001b[0m\u001b[0;34m)\u001b[0m\u001b[0;34m\u001b[0m\u001b[0;34m\u001b[0m\u001b[0m\n\u001b[0m",
            "\u001b[0;32m/usr/local/lib/python3.6/dist-packages/pandas/core/tools/datetimes.py\u001b[0m in \u001b[0;36mto_datetime\u001b[0;34m(arg, errors, dayfirst, yearfirst, utc, format, exact, unit, infer_datetime_format, origin, cache)\u001b[0m\n\u001b[1;32m    722\u001b[0m                 \u001b[0mresult\u001b[0m \u001b[0;34m=\u001b[0m \u001b[0mresult\u001b[0m\u001b[0;34m.\u001b[0m\u001b[0mtz_localize\u001b[0m\u001b[0;34m(\u001b[0m\u001b[0mtz\u001b[0m\u001b[0;34m)\u001b[0m\u001b[0;34m\u001b[0m\u001b[0;34m\u001b[0m\u001b[0m\n\u001b[1;32m    723\u001b[0m     \u001b[0;32melif\u001b[0m \u001b[0misinstance\u001b[0m\u001b[0;34m(\u001b[0m\u001b[0marg\u001b[0m\u001b[0;34m,\u001b[0m \u001b[0mABCSeries\u001b[0m\u001b[0;34m)\u001b[0m\u001b[0;34m:\u001b[0m\u001b[0;34m\u001b[0m\u001b[0;34m\u001b[0m\u001b[0m\n\u001b[0;32m--> 724\u001b[0;31m         \u001b[0mcache_array\u001b[0m \u001b[0;34m=\u001b[0m \u001b[0m_maybe_cache\u001b[0m\u001b[0;34m(\u001b[0m\u001b[0marg\u001b[0m\u001b[0;34m,\u001b[0m \u001b[0mformat\u001b[0m\u001b[0;34m,\u001b[0m \u001b[0mcache\u001b[0m\u001b[0;34m,\u001b[0m \u001b[0mconvert_listlike\u001b[0m\u001b[0;34m)\u001b[0m\u001b[0;34m\u001b[0m\u001b[0;34m\u001b[0m\u001b[0m\n\u001b[0m\u001b[1;32m    725\u001b[0m         \u001b[0;32mif\u001b[0m \u001b[0;32mnot\u001b[0m \u001b[0mcache_array\u001b[0m\u001b[0;34m.\u001b[0m\u001b[0mempty\u001b[0m\u001b[0;34m:\u001b[0m\u001b[0;34m\u001b[0m\u001b[0;34m\u001b[0m\u001b[0m\n\u001b[1;32m    726\u001b[0m             \u001b[0mresult\u001b[0m \u001b[0;34m=\u001b[0m \u001b[0marg\u001b[0m\u001b[0;34m.\u001b[0m\u001b[0mmap\u001b[0m\u001b[0;34m(\u001b[0m\u001b[0mcache_array\u001b[0m\u001b[0;34m)\u001b[0m\u001b[0;34m\u001b[0m\u001b[0;34m\u001b[0m\u001b[0m\n",
            "\u001b[0;32m/usr/local/lib/python3.6/dist-packages/pandas/core/tools/datetimes.py\u001b[0m in \u001b[0;36m_maybe_cache\u001b[0;34m(arg, format, cache, convert_listlike)\u001b[0m\n\u001b[1;32m    145\u001b[0m     \u001b[0;32mif\u001b[0m \u001b[0mcache\u001b[0m\u001b[0;34m:\u001b[0m\u001b[0;34m\u001b[0m\u001b[0;34m\u001b[0m\u001b[0m\n\u001b[1;32m    146\u001b[0m         \u001b[0;31m# Perform a quicker unique check\u001b[0m\u001b[0;34m\u001b[0m\u001b[0;34m\u001b[0m\u001b[0;34m\u001b[0m\u001b[0m\n\u001b[0;32m--> 147\u001b[0;31m         \u001b[0;32mif\u001b[0m \u001b[0;32mnot\u001b[0m \u001b[0mshould_cache\u001b[0m\u001b[0;34m(\u001b[0m\u001b[0marg\u001b[0m\u001b[0;34m)\u001b[0m\u001b[0;34m:\u001b[0m\u001b[0;34m\u001b[0m\u001b[0;34m\u001b[0m\u001b[0m\n\u001b[0m\u001b[1;32m    148\u001b[0m             \u001b[0;32mreturn\u001b[0m \u001b[0mcache_array\u001b[0m\u001b[0;34m\u001b[0m\u001b[0;34m\u001b[0m\u001b[0m\n\u001b[1;32m    149\u001b[0m \u001b[0;34m\u001b[0m\u001b[0m\n",
            "\u001b[0;32m/usr/local/lib/python3.6/dist-packages/pandas/core/tools/datetimes.py\u001b[0m in \u001b[0;36mshould_cache\u001b[0;34m(arg, unique_share, check_count)\u001b[0m\n\u001b[1;32m    114\u001b[0m     \u001b[0;32massert\u001b[0m \u001b[0;36m0\u001b[0m \u001b[0;34m<\u001b[0m \u001b[0munique_share\u001b[0m \u001b[0;34m<\u001b[0m \u001b[0;36m1\u001b[0m\u001b[0;34m,\u001b[0m \u001b[0;34m\"unique_share must be in next bounds: (0; 1)\"\u001b[0m\u001b[0;34m\u001b[0m\u001b[0;34m\u001b[0m\u001b[0m\n\u001b[1;32m    115\u001b[0m \u001b[0;34m\u001b[0m\u001b[0m\n\u001b[0;32m--> 116\u001b[0;31m     \u001b[0munique_elements\u001b[0m \u001b[0;34m=\u001b[0m \u001b[0mset\u001b[0m\u001b[0;34m(\u001b[0m\u001b[0mislice\u001b[0m\u001b[0;34m(\u001b[0m\u001b[0marg\u001b[0m\u001b[0;34m,\u001b[0m \u001b[0mcheck_count\u001b[0m\u001b[0;34m)\u001b[0m\u001b[0;34m)\u001b[0m\u001b[0;34m\u001b[0m\u001b[0;34m\u001b[0m\u001b[0m\n\u001b[0m\u001b[1;32m    117\u001b[0m     \u001b[0;32mif\u001b[0m \u001b[0mlen\u001b[0m\u001b[0;34m(\u001b[0m\u001b[0munique_elements\u001b[0m\u001b[0;34m)\u001b[0m \u001b[0;34m>\u001b[0m \u001b[0mcheck_count\u001b[0m \u001b[0;34m*\u001b[0m \u001b[0munique_share\u001b[0m\u001b[0;34m:\u001b[0m\u001b[0;34m\u001b[0m\u001b[0;34m\u001b[0m\u001b[0m\n\u001b[1;32m    118\u001b[0m         \u001b[0mdo_caching\u001b[0m \u001b[0;34m=\u001b[0m \u001b[0;32mFalse\u001b[0m\u001b[0;34m\u001b[0m\u001b[0;34m\u001b[0m\u001b[0m\n",
            "\u001b[0;31mTypeError\u001b[0m: unhashable type: 'list'"
          ]
        }
      ]
    },
    {
      "cell_type": "code",
      "metadata": {
        "id": "lIufb1wadzuE",
        "colab_type": "code",
        "colab": {
          "base_uri": "https://localhost:8080/",
          "height": 34
        },
        "outputId": "1afe78d8-53cb-4b47-f577-665f4bb4a307"
      },
      "source": [
        "df['Date'][1]"
      ],
      "execution_count": 110,
      "outputs": [
        {
          "output_type": "execute_result",
          "data": {
            "text/plain": [
              "['18-9-2020']"
            ]
          },
          "metadata": {
            "tags": []
          },
          "execution_count": 110
        }
      ]
    },
    {
      "cell_type": "code",
      "metadata": {
        "id": "WBrLw6fCcd9P",
        "colab_type": "code",
        "colab": {
          "base_uri": "https://localhost:8080/",
          "height": 34
        },
        "outputId": "f658be07-797f-4911-fa75-d9e2025fb3a5"
      },
      "source": [
        "for i in range(len(df)):\n",
        "  "
      ],
      "execution_count": 109,
      "outputs": [
        {
          "output_type": "execute_result",
          "data": {
            "text/plain": [
              "131"
            ]
          },
          "metadata": {
            "tags": []
          },
          "execution_count": 109
        }
      ]
    }
  ]
}