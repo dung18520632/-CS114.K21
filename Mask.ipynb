{
  "nbformat": 4,
  "nbformat_minor": 0,
  "metadata": {
    "colab": {
      "name": "Mask.ipynb",
      "provenance": [],
      "authorship_tag": "ABX9TyP5ImQ98NFYoIKKtBC1gLk8",
      "include_colab_link": true
    },
    "kernelspec": {
      "name": "python3",
      "display_name": "Python 3"
    }
  },
  "cells": [
    {
      "cell_type": "markdown",
      "metadata": {
        "id": "view-in-github",
        "colab_type": "text"
      },
      "source": [
        "<a href=\"https://colab.research.google.com/github/dung18520632/CS114.K21/blob/master/Mask.ipynb\" target=\"_parent\"><img src=\"https://colab.research.google.com/assets/colab-badge.svg\" alt=\"Open In Colab\"/></a>"
      ]
    },
    {
      "cell_type": "code",
      "metadata": {
        "id": "7jH8DRKHibRa",
        "colab_type": "code",
        "outputId": "418fbfa3-a439-4b00-fb4e-265c42a81c3a",
        "colab": {
          "base_uri": "https://localhost:8080/",
          "height": 121
        }
      },
      "source": [
        "from google.colab import drive\n",
        "drive.mount( '/content/gdrive' )"
      ],
      "execution_count": 0,
      "outputs": [
        {
          "output_type": "stream",
          "text": [
            "Go to this URL in a browser: https://accounts.google.com/o/oauth2/auth?client_id=947318989803-6bn6qk8qdgf4n4g3pfee6491hc0brc4i.apps.googleusercontent.com&redirect_uri=urn%3aietf%3awg%3aoauth%3a2.0%3aoob&response_type=code&scope=email%20https%3a%2f%2fwww.googleapis.com%2fauth%2fdocs.test%20https%3a%2f%2fwww.googleapis.com%2fauth%2fdrive%20https%3a%2f%2fwww.googleapis.com%2fauth%2fdrive.photos.readonly%20https%3a%2f%2fwww.googleapis.com%2fauth%2fpeopleapi.readonly\n",
            "\n",
            "Enter your authorization code:\n",
            "··········\n",
            "Mounted at /content/gdrive\n"
          ],
          "name": "stdout"
        }
      ]
    },
    {
      "cell_type": "code",
      "metadata": {
        "id": "NYCebj-VjxV6",
        "colab_type": "code",
        "colab": {}
      },
      "source": [
        "import os\n",
        "import cv2 \n",
        "import time\n",
        "import pickle\n",
        "import itertools\n",
        "import numpy as np\n",
        "import matplotlib.pyplot as plt\n",
        "from sklearn.linear_model import LogisticRegressionCV\n",
        "from sklearn.metrics import confusion_matrix\n",
        "from sklearn.metrics import accuracy_score\n",
        "from sklearn.metrics import f1_score\n",
        "from sklearn.metrics import precision_score\n",
        "from sklearn.metrics import recall_score\n",
        "\n",
        "def Danh_Lable(Y, path, sl = -1):\n",
        "    if sl == -1:\n",
        "      sl = len(os.listdir(path))\n",
        "\n",
        "    for pic in os.listdir(path):\n",
        "      if pic[:3] == 'pos':\n",
        "        Y.append(1)\n",
        "      else:\n",
        "        if  pic[:3] == 'neg':\n",
        "          Y.append(0)\n",
        "        else:\n",
        "          Y.append(-1)\n",
        "      sl = sl - 1\n",
        "      if sl <= 0:\n",
        "        break\n",
        "    return Y\n",
        "\n",
        "def load_img(link, i,sig=1):\n",
        "    if sig == 1:\n",
        "      print(\"Loading image {} : {}\".format(i + 1, link))\n",
        "    t0 = time.time()\n",
        "    img = cv2.imread(link)\n",
        "    t1 = time.time()\n",
        "    if sig == 1:\n",
        "      print(\"Time : {0:.3f}\".format(t1-t0))\n",
        "    return img\n",
        "\n",
        "def detect_faces(img,sig=1):\n",
        "    if sig == 1:\n",
        "      print(\"START DETECT FACE\",end=\"\")\n",
        "      print(\"-\"*63)\n",
        "\n",
        "    t0 = time.time()\n",
        "    cascade = cv2.CascadeClassifier(cv2.data.haarcascades + \"haarcascade_frontalface_default.xml\")\n",
        "    faces = cascade.detectMultiScale(img)\n",
        "    if sig == 1:\n",
        "      print(\"- Has found {} faces\".format(len(faces)))\n",
        "\n",
        "    if len(faces) != 0:\n",
        "        (x, y, w, h) = faces[0]\n",
        "        r = max(w, h) / 2\n",
        "        centerx = x + w / 2\n",
        "        centery = y + h / 2\n",
        "        nx = int(centerx - r)\n",
        "        ny = int(centery - r)\n",
        "        nr = int(r * 2)\n",
        "        faceimg = img[ny:ny+nr, nx:nx+nr]\n",
        "        t1 = time.time()\n",
        "        if sig == 1:\n",
        "          print(\"- Time : {0:.3f}\".format(t1-t0))\n",
        "        return faceimg\n",
        "    else:\n",
        "        if sig == 1:\n",
        "          print(\"NO FACE DETECED\")\n",
        "          print(\"LOAD NEXT IMAGE\")\n",
        "          t1 = time.time()\n",
        "          print(\"- Time : {0:.3f}\".format(t1-t0))\n",
        "        return None\n",
        "\n",
        "def resize(img, w=50, h=50,sig=1):\n",
        "    if sig == 1:\n",
        "      print(\"START RESIZE \",end=\"\")\n",
        "      print(\"-\"*67)\n",
        "    img_resized = cv2.resize(src=img, dsize=(w, h))\n",
        "    return img_resized\n",
        "\n",
        "def convert(img,sig=1):\n",
        "    if sig == 1:\n",
        "      print(\"START CONVERT COLOR \",end=\"\")\n",
        "      print(\"-\"*60)\n",
        "    image_t = cv2.cvtColor(img, cv2.COLOR_BGR2GRAY)\n",
        "    return image_t\n",
        "\n",
        "def crop_face(link, sl=-1, sig=1):\n",
        "    if sig == 1:\n",
        "      print(\"START CROPPING FACE\")\n",
        "      print(\"=\"*80)\n",
        "\n",
        "    list_image = []\n",
        "    list_os = os.listdir(link)\n",
        "    if sl == -1:\n",
        "      sl = len(list_os)\n",
        "    \n",
        "    for i, name in enumerate(list_os[:sl]):\n",
        "      if sig == 1:\n",
        "        print(\"_\"*80)\n",
        "      # Load anh\n",
        "      path = link + \"/\" + name\n",
        "      img = load_img(path, i,sig)\n",
        "      # Detect face\n",
        "      face_cvted = convert(img,sig)\n",
        "      face = detect_faces(face_cvted,sig)\n",
        "      if face is None:\n",
        "        list_image.append(None)\n",
        "        continue;\n",
        "      # Resize\n",
        "      face_resize = resize(face,sig=sig)\n",
        "      # Convert\n",
        "      #os.chdir(r'C:\\Users\\Laptop\\Desktop\\DoAnCuoiky\\train convert') \n",
        "      #cv2.imwrite(name, face_resize)\n",
        "      list_image.append(face_resize)\n",
        "    return list_image\n",
        "\n",
        "def create_feature(data):\n",
        "  zero = np.array([0]*2500)\n",
        "\n",
        "  feature = []\n",
        "  for pic in data:\n",
        "    if pic is None:\n",
        "      feature.append(zero)\n",
        "    else:\n",
        "      feature.append(pic.flatten() / 255)\n",
        "  return feature\n",
        "\n",
        "\n",
        "def split_data(X, Y, alpha = 0.5):\n",
        "  edge = int(len(X) * alpha)\n",
        "  features = []\n",
        "  target = []\n",
        "  index = np.random.permutation(len(X))\n",
        "  for i in index:\n",
        "      features.append(X[i])\n",
        "      target.append(Y[i])\n",
        "  X_train = features[:edge]\n",
        "  X_test = features[edge:]\n",
        "\n",
        "  Y_train = target[:edge]\n",
        "  Y_test = target[edge:]\n",
        "  return (X_train, Y_train, X_test, Y_test)\n",
        "\n",
        "def plot_confusion_matrix(cm, classes,\n",
        "                          normalize=False,\n",
        "                          title='Confusion matrix',\n",
        "                          cmap=plt.cm.Blues):\n",
        "    if normalize:\n",
        "        cm = cm.astype('float') / cm.sum(axis=1, keepdims = True)\n",
        "\n",
        "    plt.imshow(cm, interpolation='nearest', cmap=cmap)\n",
        "    plt.title(title)\n",
        "    plt.colorbar()\n",
        "    tick_marks = np.arange(len(classes))\n",
        "    plt.xticks(tick_marks, classes, rotation=45)\n",
        "    plt.yticks(tick_marks, classes)\n",
        "\n",
        "    fmt = '.2f' if normalize else 'd'\n",
        "    thresh = cm.max() / 2.\n",
        "    for i, j in itertools.product(range(cm.shape[0]), range(cm.shape[1])):\n",
        "        plt.text(j, i, format(cm[i, j], fmt),\n",
        "                 horizontalalignment=\"center\",\n",
        "                 color=\"white\" if cm[i, j] > thresh else \"black\")\n",
        "\n",
        "    plt.tight_layout()\n",
        "    plt.ylabel('True label')\n",
        "    plt.xlabel('Predicted label')\n",
        "\n",
        "def saveModel(model,link=None):\n",
        "    if link == None:\n",
        "        with open(\"pickle.txt\", \"wb\") as f:\n",
        "            pickle.dump(model, f)\n",
        "    else:\n",
        "         with open(link + \"\\pickle.txt\", \"wb\") as f:\n",
        "            pickle.dump(model, f)\n",
        "            \n",
        "def openModel(link=None):\n",
        "    if link == None:\n",
        "        with open(\"pickle.txt\", \"rb\") as f:\n",
        "            p = pickle.load(f)\n",
        "    else:\n",
        "        with open(link + \"\\pickle.txt\", \"rb\") as f:\n",
        "            p = pickle.load(f)\n",
        "    return p"
      ],
      "execution_count": 0,
      "outputs": []
    },
    {
      "cell_type": "code",
      "metadata": {
        "id": "9fh1viKokQjV",
        "colab_type": "code",
        "colab": {}
      },
      "source": [
        "folder = '/content/gdrive/My Drive/Colab Notebooks/train'\n",
        "M = []\n",
        "M =  Danh_Lable(M, folder)\n",
        "faces = crop_face(folder)\n",
        "feature = create_feature(faces)\n",
        "X_train, Y_train, X_test, Y_test = split_data(feature, M, 0.8)"
      ],
      "execution_count": 0,
      "outputs": []
    },
    {
      "cell_type": "code",
      "metadata": {
        "id": "ez9VBhoOnmoI",
        "colab_type": "code",
        "outputId": "d628296d-1416-4b0c-a013-bf378b2a0298",
        "colab": {
          "base_uri": "https://localhost:8080/",
          "height": 101
        }
      },
      "source": [
        "clfcv = LogisticRegressionCV(cv=5,max_iter=100, tol=1e-4,solver='liblinear')\n",
        "clfcv.fit(X_train, Y_train)"
      ],
      "execution_count": 0,
      "outputs": [
        {
          "output_type": "execute_result",
          "data": {
            "text/plain": [
              "LogisticRegressionCV(Cs=10, class_weight=None, cv=5, dual=False,\n",
              "                     fit_intercept=True, intercept_scaling=1.0, l1_ratios=None,\n",
              "                     max_iter=100, multi_class='auto', n_jobs=None,\n",
              "                     penalty='l2', random_state=None, refit=True, scoring=None,\n",
              "                     solver='liblinear', tol=0.0001, verbose=0)"
            ]
          },
          "metadata": {
            "tags": []
          },
          "execution_count": 7
        }
      ]
    },
    {
      "cell_type": "code",
      "metadata": {
        "id": "3oXVX4gcnpmv",
        "colab_type": "code",
        "outputId": "57acf732-dd9d-4963-f1c7-2ec1f3d321dc",
        "colab": {
          "base_uri": "https://localhost:8080/",
          "height": 34
        }
      },
      "source": [
        "Y_predict = clfcv.predict(X_test)\n",
        "\n",
        "cf_mx = confusion_matrix(Y_test, Y_predict)\n",
        "print(\"Accuracy : \",accuracy_score(Y_test, Y_predict))"
      ],
      "execution_count": 0,
      "outputs": [
        {
          "output_type": "stream",
          "text": [
            "Accuracy :  0.6818181818181818\n"
          ],
          "name": "stdout"
        }
      ]
    },
    {
      "cell_type": "code",
      "metadata": {
        "id": "O68aO-s8oMb_",
        "colab_type": "code",
        "colab": {}
      },
      "source": [
        "saveModel(clfcv)"
      ],
      "execution_count": 0,
      "outputs": []
    },
    {
      "cell_type": "code",
      "metadata": {
        "id": "nMHXZgB8pBWX",
        "colab_type": "code",
        "outputId": "d75d940a-c631-41a9-c9dd-45242f9ca1d3",
        "colab": {
          "base_uri": "https://localhost:8080/",
          "height": 34
        }
      },
      "source": [
        "folder_pred = '/content/gdrive/My Drive/Colab Notebooks/predict'\n",
        "clf = openModel()\n",
        "real = []\n",
        "\n",
        "real = Danh_Lable(real,folder_pred)\n",
        "img_pred = crop_face(folder_pred,sig=0)\n",
        "img_pred = create_feature(img_pred)\n",
        "ketqua = clf.predict(img_pred)\n",
        "print(\"Accuracy : \",accuracy_score(real, ketqua))"
      ],
      "execution_count": 0,
      "outputs": [
        {
          "output_type": "stream",
          "text": [
            "Accuracy :  0.5714285714285714\n"
          ],
          "name": "stdout"
        }
      ]
    }
  ]
}