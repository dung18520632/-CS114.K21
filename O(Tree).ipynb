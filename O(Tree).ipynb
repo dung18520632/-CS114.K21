{
  "nbformat": 4,
  "nbformat_minor": 0,
  "metadata": {
    "colab": {
      "name": "Untitled28.ipynb",
      "provenance": [],
      "collapsed_sections": [],
      "authorship_tag": "ABX9TyM9bPGV30m5a5TaAB4Dc3Iv",
      "include_colab_link": true
    },
    "kernelspec": {
      "name": "python3",
      "display_name": "Python 3"
    }
  },
  "cells": [
    {
      "cell_type": "markdown",
      "metadata": {
        "id": "view-in-github",
        "colab_type": "text"
      },
      "source": [
        "<a href=\"https://colab.research.google.com/github/dung18520632/CS114.K21/blob/master/O(Tree).ipynb\" target=\"_parent\"><img src=\"https://colab.research.google.com/assets/colab-badge.svg\" alt=\"Open In Colab\"/></a>"
      ]
    },
    {
      "cell_type": "code",
      "metadata": {
        "id": "pCb6b2x0by6k"
      },
      "source": [
        "import pandas as pd "
      ],
      "execution_count": 1,
      "outputs": []
    },
    {
      "cell_type": "code",
      "metadata": {
        "id": "ptoLYw2-cg-t",
        "outputId": "f25a9aa1-b755-4903-e816-8c95e2b88d94",
        "colab": {
          "base_uri": "https://localhost:8080/",
          "height": 282
        }
      },
      "source": [
        "data=pd.read_csv('/content/data (3).csv')\n",
        "data.columns=['sizes','operations']\n",
        "import matplotlib.pyplot as plt\n",
        "plt.scatter(data['sizes'],data['operations'])\n"
      ],
      "execution_count": 4,
      "outputs": [
        {
          "output_type": "execute_result",
          "data": {
            "text/plain": [
              "<matplotlib.collections.PathCollection at 0x7f40e368c550>"
            ]
          },
          "metadata": {
            "tags": []
          },
          "execution_count": 4
        },
        {
          "output_type": "display_data",
          "data": {
            "image/png": "[encoded data removed]",
            "text/plain": [
              "<Figure size 432x288 with 1 Axes>"
            ]
          },
          "metadata": {
            "tags": [],
            "needs_background": "light"
          }
        }
      ]
    },
    {
      "cell_type": "code",
      "metadata": {
        "id": "VEaFbLNumPWe",
        "outputId": "a9ee4ed8-74eb-4df3-af52-bec7fbbe9fcc",
        "colab": {
          "base_uri": "https://localhost:8080/",
          "height": 504
        }
      },
      "source": [
        "import numpy as np\n",
        "\n",
        "X_= data['sizes'].values.reshape(-1,1)\n",
        "X_sqrt = np.sqrt(X_)\n",
        "X_log=np.log2(X_)\n",
        "X_nlog=X_*np.log2(X_)\n",
        "X_n2=np.power(X_,2)\n",
        "print(X_n2)"
      ],
      "execution_count": 5,
      "outputs": [
        {
          "output_type": "stream",
          "text": [
            "[[   144000000]\n",
            " [   225000000]\n",
            " [  1600000000]\n",
            " [  3600000000]\n",
            " [  6400000000]\n",
            " [ 10000000000]\n",
            " [ 14400000000]\n",
            " [ 19600000000]\n",
            " [ 25600000000]\n",
            " [ 32400000000]\n",
            " [ 40000000000]\n",
            " [ 48400000000]\n",
            " [ 57600000000]\n",
            " [ 67600000000]\n",
            " [ 78400000000]\n",
            " [ 90000000000]\n",
            " [102400000000]\n",
            " [115600000000]\n",
            " [129600000000]\n",
            " [160000000000]\n",
            " [176400000000]\n",
            " [193600000000]\n",
            " [211600000000]\n",
            " [230400000000]\n",
            " [250000000000]\n",
            " [270400000000]\n",
            " [291600000000]\n",
            " [313600000000]\n",
            " [336400000000]]\n"
          ],
          "name": "stdout"
        }
      ]
    },
    {
      "cell_type": "code",
      "metadata": {
        "id": "5Ib_yjyLnFNF",
        "outputId": "666f7b95-aa9a-497f-b41c-34a54e3900c4",
        "colab": {
          "base_uri": "https://localhost:8080/",
          "height": 101
        }
      },
      "source": [
        "from sklearn.linear_model import LinearRegression\n",
        "\n",
        "regr = LinearRegression()\n",
        "# Tìm hệ số để MSE ứng với hàm f(n) đạt min\n",
        "regr.fit(X_sqrt, data['operations'])\n",
        "print(\"Hệ số hàm sqrt(n): \",regr.coef_)\n",
        "regr.fit(X_log, data['operations'])\n",
        "print(\"Hệ số hàm log(n): \",regr.coef_)\n",
        "regr.fit(X_, data['operations'])\n",
        "print(\"Hệ số hàm N: \",regr.coef_)\n",
        "regr.fit(X_nlog, data['operations'])\n",
        "print(\"Hệ số hàm nlog(n): \",regr.coef_)\n",
        "regr.fit(X_n2, data['operations'])\n",
        "print(\"Hệ số hàm n^2: \",regr.coef_)"
      ],
      "execution_count": 6,
      "outputs": [
        {
          "output_type": "stream",
          "text": [
            "Hệ số hàm sqrt(n):  [0.10013642]\n",
            "Hệ số hàm log(n):  [11.73674111]\n",
            "Hệ số hàm N:  [0.00011021]\n",
            "Hệ số hàm nlog(n):  [5.68359614e-06]\n",
            "Hệ số hàm n^2:  [1.77247246e-10]\n"
          ],
          "name": "stdout"
        }
      ]
    }
  ]
}