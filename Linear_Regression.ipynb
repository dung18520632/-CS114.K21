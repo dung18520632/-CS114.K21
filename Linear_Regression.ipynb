{
  "nbformat": 4,
  "nbformat_minor": 0,
  "metadata": {
    "colab": {
      "name": "Linear_Regression.ipynb",
      "provenance": [],
      "mount_file_id": "1sWVzPU_vDGI4v6fh3pJjR8-_s95TQoCj",
      "authorship_tag": "ABX9TyNzt+tYaOjuHIPVXGsvrzzX",
      "include_colab_link": true
    },
    "kernelspec": {
      "name": "python3",
      "display_name": "Python 3"
    }
  },
  "cells": [
    {
      "cell_type": "markdown",
      "metadata": {
        "id": "view-in-github",
        "colab_type": "text"
      },
      "source": [
        "<a href=\"https://colab.research.google.com/github/dung18520632/CS114.K21/blob/master/Linear_Regression.ipynb\" target=\"_parent\"><img src=\"https://colab.research.google.com/assets/colab-badge.svg\" alt=\"Open In Colab\"/></a>"
      ]
    },
    {
      "cell_type": "code",
      "metadata": {
        "id": "BUdOgy3y5a6J",
        "colab_type": "code",
        "colab": {}
      },
      "source": [
        "import pandas as pd\n",
        "import matplotlib.pyplot as plt\n",
        "import random\n",
        "from sklearn.model_selection import train_test_split\n",
        "from sklearn.linear_model import LinearRegression\n",
        "import numpy as np\n",
        "from sklearn.metrics import mean_squared_error, r2_score"
      ],
      "execution_count": 0,
      "outputs": []
    },
    {
      "cell_type": "code",
      "metadata": {
        "id": "zsTsero9G0T3",
        "colab_type": "code",
        "colab": {
          "base_uri": "https://localhost:8080/",
          "height": 118
        },
        "outputId": "4b7903c6-da91-4175-e048-f7eac6022c39"
      },
      "source": [
        "time_df = pd.read_csv('/content/drive/My Drive/Colab Notebooks/Data.csv', names=[\"size\", \"time\"])\n",
        "size = time_df['size'].astype(float)\n",
        "X=time_df.drop('time', axis = 1)\n",
        "Y = time_df['time']\n",
        "print(time_df.head(5))"
      ],
      "execution_count": 33,
      "outputs": [
        {
          "output_type": "stream",
          "text": [
            "      size      time\n",
            "0  4032139  1.200580\n",
            "1  2055486  0.509774\n",
            "2  5626651  1.476080\n",
            "3    42065  0.007651\n",
            "4  6297788  1.661560\n"
          ],
          "name": "stdout"
        }
      ]
    },
    {
      "cell_type": "code",
      "metadata": {
        "id": "uLcQXT8YJpVb",
        "colab_type": "code",
        "colab": {
          "base_uri": "https://localhost:8080/",
          "height": 118
        },
        "outputId": "fa485d8a-68ef-4cef-fa8e-4e45f68d1560"
      },
      "source": [
        "X_train, X_test, y_train, y_test = train_test_split(X, Y, test_size=0.2, random_state=0)\n",
        "print(X_test[:5])\n"
      ],
      "execution_count": 36,
      "outputs": [
        {
          "output_type": "stream",
          "text": [
            "         size\n",
            "1398   988879\n",
            "4773  8238481\n",
            "2243  3036380\n",
            "1139  8019023\n",
            "1203   535373\n"
          ],
          "name": "stdout"
        }
      ]
    },
    {
      "cell_type": "code",
      "metadata": {
        "id": "wGjl8zN4JwET",
        "colab_type": "code",
        "colab": {
          "base_uri": "https://localhost:8080/",
          "height": 50
        },
        "outputId": "d1126164-7ec7-4f1e-e849-7dd9d20e7209"
      },
      "source": [
        "from sklearn.linear_model import LinearRegression\n",
        "\n",
        "lm = LinearRegression()\n",
        "lm.fit(X_train, y_train)\n",
        "\n",
        "Y_pred = lm.predict(X_test)\n",
        "print('weight: ', lm.coef_)\n",
        "print('bias: ',lm.intercept_)"
      ],
      "execution_count": 38,
      "outputs": [
        {
          "output_type": "stream",
          "text": [
            "weight:  [2.84077497e-07]\n",
            "bias:  -0.054783244154219535\n"
          ],
          "name": "stdout"
        }
      ]
    }
  ]
}