{
  "nbformat": 4,
  "nbformat_minor": 0,
  "metadata": {
    "colab": {
      "name": "Round3.ipynb",
      "provenance": [],
      "toc_visible": true,
      "mount_file_id": "https://github.com/dung18520632/CS114.K21/blob/master/Round3.ipynb",
      "authorship_tag": "ABX9TyNkSu1+DGPztQQUOBsX8/WZ",
      "include_colab_link": true
    },
    "kernelspec": {
      "name": "python3",
      "display_name": "Python 3"
    }
  },
  "cells": [
    {
      "cell_type": "markdown",
      "metadata": {
        "id": "view-in-github",
        "colab_type": "text"
      },
      "source": [
        "<a href=\"https://colab.research.google.com/github/dung18520632/CS114.K21/blob/master/Round3.ipynb\" target=\"_parent\"><img src=\"https://colab.research.google.com/assets/colab-badge.svg\" alt=\"Open In Colab\"/></a>"
      ]
    },
    {
      "cell_type": "code",
      "metadata": {
        "id": "1U3PGUz4zvDw",
        "colab_type": "code",
        "colab": {}
      },
      "source": [
        "import pandas as pd\n",
        "import matplotlib.pyplot as plt\n",
        "import random\n",
        "from sklearn.model_selection import train_test_split\n",
        "from sklearn.linear_model import LinearRegression\n",
        "import numpy as np\n",
        "from sklearn.metrics import mean_squared_error, r2_score"
      ],
      "execution_count": 0,
      "outputs": []
    },
    {
      "cell_type": "markdown",
      "metadata": {
        "id": "QptI7yGkz6Ih",
        "colab_type": "text"
      },
      "source": [
        "# I. Lấy dữ liệu"
      ]
    },
    {
      "cell_type": "markdown",
      "metadata": {
        "id": "DqZJR2z2z7S0",
        "colab_type": "text"
      },
      "source": [
        "# 1.Tải file data.csv lên Drive."
      ]
    },
    {
      "cell_type": "code",
      "metadata": {
        "id": "QhDo6L8B0CJJ",
        "colab_type": "code",
        "colab": {}
      },
      "source": [
        "time_df = pd.read_csv('/content/drive/My Drive/Colab Notebooks/data.csv', names=[\"size\", \"time\"])"
      ],
      "execution_count": 0,
      "outputs": []
    },
    {
      "cell_type": "markdown",
      "metadata": {
        "id": "H3mOlHnZu3GI",
        "colab_type": "text"
      },
      "source": [
        "Trực quan hóa dữ liệu. Vì dữ liệu dạng tuyến tính nên chọn model Linear Regression"
      ]
    },
    {
      "cell_type": "code",
      "metadata": {
        "id": "y2WiWNEFu0qC",
        "colab_type": "code",
        "colab": {
          "base_uri": "https://localhost:8080/",
          "height": 295
        },
        "outputId": "49c601e6-0fbc-4036-98bc-4ac3134b6915"
      },
      "source": [
        "time_df.plot (x = 'size', y = 'time', style = 'o')\n",
        "plt.title ( 'Size and Time')   \n",
        "plt.xlabel ( 'Size')   \n",
        "plt.ylabel ( 'Time') \n",
        "plt.show()"
      ],
      "execution_count": 12,
      "outputs": [
        {
          "output_type": "display_data",
          "data": {
            "image/png": "[encoded data removed]",
            "text/plain": [
              "<Figure size 432x288 with 1 Axes>"
            ]
          },
          "metadata": {
            "tags": [],
            "needs_background": "light"
          }
        }
      ]
    },
    {
      "cell_type": "markdown",
      "metadata": {
        "id": "bZBZDMGT1XrK",
        "colab_type": "text"
      },
      "source": [
        "# II.Chọn Model là linear regression"
      ]
    },
    {
      "cell_type": "markdown",
      "metadata": {
        "id": "nJdMxRJX1YkL",
        "colab_type": "text"
      },
      "source": [
        "1.Trước khi chia dữ liệu thành tập dữ liệu để train - test, chúng ta cần chia dữ liệu thành hai giá trị : giá trị đích và giá trị dự báo.\n",
        "X=All other features\n",
        "# Y=Predict time"
      ]
    },
    {
      "cell_type": "code",
      "metadata": {
        "id": "ruACGPDe1bRl",
        "colab_type": "code",
        "outputId": "31423cfa-098d-482e-e870-5e551d3532e0",
        "colab": {
          "base_uri": "https://localhost:8080/",
          "height": 118
        }
      },
      "source": [
        "size = time_df['size'].astype(float)\n",
        "X=time_df.drop('time', axis = 1)\n",
        "Y = time_df['time']\n",
        "print(time_df.head(5))"
      ],
      "execution_count": 3,
      "outputs": [
        {
          "output_type": "stream",
          "text": [
            "      size      time\n",
            "0  6083695  0.521842\n",
            "1  1954367  0.152648\n",
            "2  3734185  0.298548\n",
            "3  5839301  0.460480\n",
            "4  6343427  0.527977\n"
          ],
          "name": "stdout"
        }
      ]
    },
    {
      "cell_type": "markdown",
      "metadata": {
        "id": "PMOzd8le1fTb",
        "colab_type": "text"
      },
      "source": [
        "# 2.Chia tập dữ liệu thành 2 phần. 80% để train và 20% để test"
      ]
    },
    {
      "cell_type": "code",
      "metadata": {
        "id": "7IsgfphP1hS3",
        "colab_type": "code",
        "outputId": "bea6ffca-23b8-429f-902f-eeaee4dab6c0",
        "colab": {
          "base_uri": "https://localhost:8080/",
          "height": 118
        }
      },
      "source": [
        "X_train, X_test, y_train, y_test = train_test_split(X, Y, test_size=0.2, random_state=0)\n",
        "print(X_test[:5])\n"
      ],
      "execution_count": 4,
      "outputs": [
        {
          "output_type": "stream",
          "text": [
            "          size\n",
            "15937  2661626\n",
            "26460  7548278\n",
            "33134  2316651\n",
            "25574  1977028\n",
            "31592  6337478\n"
          ],
          "name": "stdout"
        }
      ]
    },
    {
      "cell_type": "code",
      "metadata": {
        "id": "-8d7vY621jsQ",
        "colab_type": "code",
        "outputId": "753f23fe-8260-41c6-ed37-cd9951136dcf",
        "colab": {
          "base_uri": "https://localhost:8080/",
          "height": 67
        }
      },
      "source": [
        "from sklearn.linear_model import LinearRegression\n",
        "\n",
        "lm = LinearRegression()\n",
        "lm.fit(X_train, y_train)\n",
        "Y_pred = lm.predict(X_test)\n",
        "result = lm.score(X_test, y_test)\n",
        "print('result',result)\n",
        "print('weight: ', lm.coef_)\n",
        "print('bias: ',lm.intercept_)"
      ],
      "execution_count": 5,
      "outputs": [
        {
          "output_type": "stream",
          "text": [
            "result 0.9974404167783946\n",
            "weight:  [8.45606811e-08]\n",
            "bias:  -0.015924338304915187\n"
          ],
          "name": "stdout"
        }
      ]
    },
    {
      "cell_type": "markdown",
      "metadata": {
        "id": "Vec571b91luc",
        "colab_type": "text"
      },
      "source": [
        "Khả năng dự đoán tốt. Dựa vào mean_squared_error"
      ]
    },
    {
      "cell_type": "code",
      "metadata": {
        "id": "bX2K8DT61nPF",
        "colab_type": "code",
        "outputId": "975afbfa-1289-4173-f7a2-54fc058d082c",
        "colab": {
          "base_uri": "https://localhost:8080/",
          "height": 50
        }
      },
      "source": [
        "# Print test error\n",
        "print('Mean squared error: %.4f' % mean_squared_error(y_test, Y_pred))\n",
        "# The coefficient of determination: 1 is perfect prediction\n",
        "print('Coefficient of determination: %.2f' % r2_score(y_test, Y_pred))"
      ],
      "execution_count": 6,
      "outputs": [
        {
          "output_type": "stream",
          "text": [
            "Mean squared error: 0.0002\n",
            "Coefficient of determination: 1.00\n"
          ],
          "name": "stdout"
        }
      ]
    },
    {
      "cell_type": "markdown",
      "metadata": {
        "id": "KRxILNQZ1o5H",
        "colab_type": "text"
      },
      "source": [
        "# III.Predict cho dữ liệu mới"
      ]
    },
    {
      "cell_type": "code",
      "metadata": {
        "id": "aD95RxIa1qUr",
        "colab_type": "code",
        "outputId": "1bc3f543-3758-4e01-a01c-918a3efdf273",
        "colab": {
          "base_uri": "https://localhost:8080/",
          "height": 50
        }
      },
      "source": [
        "import pickle \n",
        "import joblib\n",
        "time_df = pd.read_csv('/content/drive/My Drive/Colab Notebooks/data3.csv', names=[\"size\", \"time\"])\n",
        "size = time_df['size'].astype(float)\n",
        "X3=time_df.drop('time', axis = 1)\n",
        "Y3 = time_df['time']\n",
        "filename = 'finalized_model.sav'\n",
        "X3_train, X3_test, y3_train, y3_test = train_test_split(X3, Y3, test_size=0.2, random_state=0)\n",
        "joblib.dump(lm, filename)\n",
        "# predict cho một mẫu dữ liệu mới\n",
        "loaded_model = joblib.load(filename)\n",
        "Y3_pred = loaded_model.predict(X3_test)\n",
        "# Print test error\n",
        "print('Mean squared error: %.4f' % mean_squared_error(y3_test, Y3_pred))\n",
        "# The coefficient of determination: \n",
        "print('Coefficient of determination: %.2f' % r2_score(y3_test, Y3_pred))\n"
      ],
      "execution_count": 9,
      "outputs": [
        {
          "output_type": "stream",
          "text": [
            "Mean squared error: 0.0198\n",
            "Coefficient of determination: 0.93\n"
          ],
          "name": "stdout"
        }
      ]
    },
    {
      "cell_type": "markdown",
      "metadata": {
        "id": "e85zC9T0prp7",
        "colab_type": "text"
      },
      "source": [
        "Sau khi chạy model 1 var với dữ liệu mới(data3.csv) thì ta thấy MSE tăng lên xấp xỉ 100 lần sau với dữ liệu cũ(data2.csv) (Từ 0.0002 -> 0.0198)"
      ]
    },
    {
      "cell_type": "markdown",
      "metadata": {
        "id": "TuaBo4YB6kRa",
        "colab_type": "text"
      },
      "source": [
        "-Vì thế nên kết quả data mới sử dụng model train của round 2 cho kết quả tệ hơn.\n",
        "\n"
      ]
    },
    {
      "cell_type": "markdown",
      "metadata": {
        "id": "XR8U4f7v7LnS",
        "colab_type": "text"
      },
      "source": [
        "-Vấn đề thứ nhất  gặp phải là overfitting.Model quá phù hợp với dữ liệu train nên khi gặp data mới thì sẽ bị nhiễu dẫn đến Mean squared error cao hơn.\n",
        "-Vấn đề thứ hai dữ liệu mới nếu biểu diễn size và time ở data mới thì nó không còn là một đường thẳng. Cho nên nếu dùng 1 features size thì không thể dự đoán chính xác đúng time."
      ]
    },
    {
      "cell_type": "markdown",
      "metadata": {
        "id": "EIO5dbljqsjY",
        "colab_type": "text"
      },
      "source": [
        "-Vì vậy chúng ta phải xây dựng model mới bằng phương pháp tăng số features là size**2 và size.log(size)"
      ]
    },
    {
      "cell_type": "markdown",
      "metadata": {
        "id": "vgbqh4EO7xzv",
        "colab_type": "text"
      },
      "source": [
        "# **IV.Xây dựng model mới**"
      ]
    },
    {
      "cell_type": "markdown",
      "metadata": {
        "id": "_nfv_L1k8GAa",
        "colab_type": "text"
      },
      "source": [
        "# Ta sử dung tăng số features"
      ]
    },
    {
      "cell_type": "code",
      "metadata": {
        "id": "TxlFueBS7OSX",
        "colab_type": "code",
        "outputId": "bcf1457c-a8e2-483e-cd7e-27a60ac0bfe8",
        "colab": {
          "base_uri": "https://localhost:8080/",
          "height": 118
        }
      },
      "source": [
        "time_df = pd.read_csv('/content/drive/My Drive/Colab Notebooks/data3.csv', names=[\"size\", \"time\"])\n",
        "size = time_df['size'].astype(float)\n",
        "\n",
        "size_n2 = pow(size, 2)\n",
        "size_log = size * np.log2(size)\n",
        "\n",
        "time_df['size_n2'] = size_n2\n",
        "time_df['size_log'] = size_log\n",
        "column_names = ['size', 'size_n2', 'size_log', 'time']\n",
        "pr_df = time_df.reindex(columns=column_names)\n",
        "\n",
        "data = pr_df[['size', 'size_n2', 'size_log']].values\n",
        "labels = pr_df['time'].values\n",
        "print(pr_df.head(5))"
      ],
      "execution_count": 0,
      "outputs": [
        {
          "output_type": "stream",
          "text": [
            "       size       size_n2      size_log     time\n",
            "0  37837612  1.431685e+15  9.524982e+08  4.12166\n",
            "1  37395246  1.398404e+15  9.407280e+08  3.92089\n",
            "2  36610827  1.340353e+15  9.198751e+08  3.21540\n",
            "3  29555651  8.735365e+14  7.334805e+08  2.54506\n",
            "4  25928216  6.722724e+14  6.385606e+08  2.21831\n"
          ],
          "name": "stdout"
        }
      ]
    },
    {
      "cell_type": "markdown",
      "metadata": {
        "id": "Pus4pGNFrCxb",
        "colab_type": "text"
      },
      "source": [
        "# Chia dữ liệu thành huấn luyện 80% và test 20%"
      ]
    },
    {
      "cell_type": "code",
      "metadata": {
        "id": "5DKXBfsg81nN",
        "colab_type": "code",
        "outputId": "a6ded861-c772-41b7-97ae-4f3959f89b25",
        "colab": {
          "base_uri": "https://localhost:8080/",
          "height": 101
        }
      },
      "source": [
        "X_train, X_test, y_train, y_test = train_test_split(data, labels, test_size=0.2, random_state=0)\n",
        "print(X_test[:5])"
      ],
      "execution_count": 0,
      "outputs": [
        {
          "output_type": "stream",
          "text": [
            "[[3.90274990e+07 1.52314568e+15 9.84194989e+08]\n",
            " [2.67671810e+07 7.16481979e+14 6.60452403e+08]\n",
            " [3.67649930e+07 1.35166471e+15 9.23971531e+08]\n",
            " [2.92873050e+07 8.57746234e+14 7.26435639e+08]\n",
            " [3.43621860e+07 1.18075983e+15 8.60233908e+08]]\n"
          ],
          "name": "stdout"
        }
      ]
    },
    {
      "cell_type": "code",
      "metadata": {
        "id": "A5-cIT6h82bI",
        "colab_type": "code",
        "outputId": "3e704f4e-87af-4577-dbdc-86ad0a9da58f",
        "colab": {
          "base_uri": "https://localhost:8080/",
          "height": 50
        }
      },
      "source": [
        "# choose model Linearn Regression\n",
        "lire = LinearRegression()\n",
        "lire.fit(X_train, y_train)\n",
        "y_pred = lire.predict(X_test)\n",
        "print('Mean squared error: ' , mean_squared_error(y_test, y_pred))\n",
        "# The coefficient of determination: 1 is perfect prediction\n",
        "print('Coefficient of determination: %.2f' % r2_score(y_test, y_pred))"
      ],
      "execution_count": 0,
      "outputs": [
        {
          "output_type": "stream",
          "text": [
            "Mean squared error:  0.002978417253932674\n",
            "Coefficient of determination: 0.99\n"
          ],
          "name": "stdout"
        }
      ]
    },
    {
      "cell_type": "markdown",
      "metadata": {
        "id": "d542j4t7vEGg",
        "colab_type": "text"
      },
      "source": [
        "# Model mới có performance gấp 7 lần  model cũ(0.0198->0.0029)"
      ]
    },
    {
      "cell_type": "markdown",
      "metadata": {
        "id": "NlQG-PXWvWnj",
        "colab_type": "text"
      },
      "source": [
        ""
      ]
    }
  ]
}