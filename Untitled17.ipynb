{
  "nbformat": 4,
  "nbformat_minor": 0,
  "metadata": {
    "colab": {
      "name": "Untitled17.ipynb",
      "provenance": [],
      "authorship_tag": "ABX9TyOKQtqJr01s+5Uyv9FU8uX1",
      "include_colab_link": true
    },
    "kernelspec": {
      "name": "python3",
      "display_name": "Python 3"
    }
  },
  "cells": [
    {
      "cell_type": "markdown",
      "metadata": {
        "id": "view-in-github",
        "colab_type": "text"
      },
      "source": [
        "<a href=\"https://colab.research.google.com/github/dung18520632/CS114.K21/blob/master/Untitled17.ipynb\" target=\"_parent\"><img src=\"https://colab.research.google.com/assets/colab-badge.svg\" alt=\"Open In Colab\"/></a>"
      ]
    },
    {
      "cell_type": "code",
      "metadata": {
        "id": "b3rJ8YAv3EqQ",
        "colab_type": "code",
        "colab": {}
      },
      "source": [
        "import requests\n",
        "from bs4 import BeautifulSoup"
      ],
      "execution_count": 1,
      "outputs": []
    },
    {
      "cell_type": "code",
      "metadata": {
        "id": "4RkdBLF73GgQ",
        "colab_type": "code",
        "colab": {
          "base_uri": "https://localhost:8080/",
          "height": 390
        },
        "outputId": "c0d7feb3-5efe-4a43-9372-ed96144bfd49"
      },
      "source": [
        "response = requests.get(\"https://vnexpress.net/\")\n",
        "soup = BeautifulSoup(response.content, \"html.parser\")\n",
        "titles_all = soup.findAll('section', class_='section section_container')\n",
        "titles = soup.findAll('h3', class_='title-news')\n",
        "links = [link.find('a').attrs[\"href\"] for link in titles]\n",
        "print(links)\n",
        "for link in links:\n",
        "  link=requests.get(link)\n",
        "  soup = BeautifulSoup(link.content, \"html.parser\")\n",
        "  title = soup.find(\"h1\", class_=\"title-detail\")\n",
        "  date=soup.find(\"span\",class_=\"date\")\n",
        "  if title is not None:\n",
        "    ementa = title.text\n",
        "  else:\n",
        "    ementa = None\n",
        "  print(ementa)\n",
        "  if date is not None:\n",
        "    ementa1 = date.text\n",
        "  else:\n",
        "    ementa1 = None\n",
        "print(ementa1)\n",
        "\n",
        "\n",
        "\n",
        "\n",
        "\n"
      ],
      "execution_count": 48,
      "outputs": [
        {
          "output_type": "stream",
          "text": [
            "['https://vnexpress.net/ba-duong-thi-bach-diep-bi-cao-buoc-lua-352-ty-dong-4162890.html', 'https://vnexpress.net/dan-cuu-tren-thao-nguyen-4162380.html', 'https://vnexpress.net/nhan-chung-ke-lai-vu-xe-khach-dam-canh-sat-co-dong-tu-vong-4162676.html', 'https://vnexpress.net/hai-phu-nu-viet-vao-top-nu-doanh-nhan-quyen-luc-chau-a-4162799.html', 'https://vnexpress.net/nhung-khoanh-khac-gay-chu-y-cua-shinzo-abe-4162626.html', 'https://vnexpress.net/chu-tich-cong-ty-hoa-thang-nam-ong-tai-than-voi-nguoi-nha-toi-4162701.html', 'https://vnexpress.net/chang-trai-dat-30-diem-khoi-b-4162839.html', 'https://vnexpress.net/em-be-bi-bo-roi-cong-chua-duoc-bo-me-den-nhan-4162621.html', 'https://vnexpress.net/boeing-737-max-roi-do-loat-sai-sot-kinh-hoang-4162855.html', 'https://vnexpress.net/duong-day-mang-thai-ho-bi-phat-hien-4162830.html', 'https://vnexpress.net/chay-16-phong-tro-nhieu-gia-dinh-mat-trang-tai-san-4162753.html', 'https://vnexpress.net/uy-ban-kinh-te-gia-dien-viet-nam-cham-thay-doi-4162664.html', 'https://vnexpress.net/chinh-phu-quyet-dinh-chua-sap-nhap-so-nganh-4162670.html', 'https://vnexpress.net/50-doanh-nghiep-dau-thau-cao-toc-bac-nam-4162772.html', 'https://vnexpress.net/phan-quyet-khien-trump-noi-gian-voi-wto-4162508.html', 'https://vnexpress.net/quoc-hoi-se-quyet-dinh-bo-nao-quan-ly-sat-hach-giay-phep-lai-xe-4162545.html', 'https://vnexpress.net/so-ke-doanh-so-cac-hang-oto-tai-viet-nam-4162497.html', 'https://vnexpress.net/co-gai-phap-tim-me-de-viet-nam-4162691.html', 'https://vnexpress.net/donald-trump-tu-ty-phu-bat-dong-san-den-tong-thong-noi-la-lam-4160685.html']\n",
            "Bà Dương Thị Bạch Diệp bị cáo buộc lừa 352 tỷ đồng\n",
            "None\n",
            "Nhân chứng kể lại vụ xe khách đâm cảnh sát cơ động tử vong\n",
            "Hai phụ nữ Việt vào top nữ doanh nhân quyền lực châu Á\n",
            "Những khoảnh khắc gây chú ý của Shinzo Abe\n",
            "Chủ tịch Công ty Hoa Tháng Năm: 'Ông Tài thân với người nhà tôi'\n",
            "Chàng trai đạt 30 điểm khối B\n",
            "Em bé bị bỏ rơi cổng chùa được bố mẹ đến nhận\n",
            "Boeing 737 MAX rơi do 'loạt sai sót kinh hoàng'\n",
            "Đường dây mang thai hộ bị phát hiện\n",
            "Cháy 16 phòng trọ, nhiều gia đình mất trắng tài sản\n",
            "Ủy ban Kinh tế: Giá điện Việt Nam chậm thay đổi\n",
            "Chính phủ quyết định chưa sáp nhập sở ngành\n",
            "50 doanh nghiệp đấu thầu cao tốc Bắc Nam\n",
            "Phán quyết khiến Trump nổi giận với WTO\n",
            "Quốc hội sẽ quyết định bộ nào quản lý sát hạch giấy phép lái xe\n",
            "So kè doanh số các hãng ôtô tại Việt Nam\n",
            "Cô gái Pháp tìm mẹ đẻ Việt Nam\n",
            "Donald Trump - từ tỷ phú bất động sản đến tổng thống 'nói là làm'\n",
            "Thứ tư, 16/9/2020, 11:52 (GMT+7)\n"
          ],
          "name": "stdout"
        }
      ]
    }
  ]
}