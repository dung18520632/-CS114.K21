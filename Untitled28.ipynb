{
  "nbformat": 4,
  "nbformat_minor": 0,
  "metadata": {
    "colab": {
      "name": "Untitled28.ipynb",
      "provenance": [],
      "collapsed_sections": [],
      "authorship_tag": "ABX9TyM9bPGV30m5a5TaAB4Dc3Iv",
      "include_colab_link": true
    },
    "kernelspec": {
      "name": "python3",
      "display_name": "Python 3"
    }
  },
  "cells": [
    {
      "cell_type": "markdown",
      "metadata": {
        "id": "view-in-github",
        "colab_type": "text"
      },
      "source": [
        "<a href=\"https://colab.research.google.com/github/dung18520632/CS114.K21/blob/master/Untitled28.ipynb\" target=\"_parent\"><img src=\"https://colab.research.google.com/assets/colab-badge.svg\" alt=\"Open In Colab\"/></a>"
      ]
    },
    {
      "cell_type": "code",
      "metadata": {
        "id": "pCb6b2x0by6k"
      },
      "source": [
        "import pandas as pd "
      ],
      "execution_count": 1,
      "outputs": []
    },
    {
      "cell_type": "code",
      "metadata": {
        "id": "ptoLYw2-cg-t",
        "outputId": "d9bebbb2-4c5f-476b-bd09-63d7fd27738a",
        "colab": {
          "base_uri": "https://localhost:8080/",
          "height": 293
        }
      },
      "source": [
        "data=pd.read_csv('/content/data (3).csv')\n",
        "data.columns=['sizes','operations']\n",
        "import matplotlib.pyplot as plt\n",
        "plt.scatter(data['sizes'],data['operations'])\n"
      ],
      "execution_count": 3,
      "outputs": [
        {
          "output_type": "execute_result",
          "data": {
            "text/plain": [
              "<matplotlib.collections.PathCollection at 0x7f4f93196828>"
            ]
          },
          "metadata": {
            "tags": []
          },
          "execution_count": 3
        },
        {
          "output_type": "display_data",
          "data": {
            "image/png": "[encoded data removed]",
            "text/plain": [
              "<Figure size 432x288 with 1 Axes>"
            ]
          },
          "metadata": {
            "tags": [],
            "needs_background": "light"
          }
        }
      ]
    },
    {
      "cell_type": "code",
      "metadata": {
        "id": "VEaFbLNumPWe"
      },
      "source": [
        "import numpy as np\n",
        "\n",
        "X_= data['sizes'].values.reshape(-1,1)\n",
        "X_sqrt = np.sqrt(X_)\n",
        "X_log=np.log2(X_)\n",
        "X_nlog=X_*np.log2(X_)\n",
        "X_n2=np.power(X_,2)\n",
        "print(X_n2)"
      ],
      "execution_count": null,
      "outputs": []
    },
    {
      "cell_type": "code",
      "metadata": {
        "id": "5Ib_yjyLnFNF",
        "outputId": "26ab8f09-1e8e-4130-df69-63ec1f5d0dca",
        "colab": {
          "base_uri": "https://localhost:8080/",
          "height": 101
        }
      },
      "source": [
        "from sklearn.linear_model import LinearRegression\n",
        "\n",
        "regr = LinearRegression()\n",
        "# Tìm hệ số để MSE ứng với hàm f(n) đạt min\n",
        "regr.fit(X_sqrt, data['operations'])\n",
        "print(\"Hệ số hàm sqrt(n): \",regr.coef_)\n",
        "regr.fit(X_log, data['operations'])\n",
        "print(\"Hệ số hàm log(n): \",regr.coef_)\n",
        "regr.fit(X_, data['operations'])\n",
        "print(\"Hệ số hàm N: \",regr.coef_)\n",
        "regr.fit(X_nlog, data['operations'])\n",
        "print(\"Hệ số hàm nlog(n): \",regr.coef_)\n",
        "regr.fit(X_n2, data['operations'])\n",
        "print(\"Hệ số hàm n^2: \",regr.coef_)"
      ],
      "execution_count": 19,
      "outputs": [
        {
          "output_type": "stream",
          "text": [
            "Hệ số hàm sqrt(n):  [5494981.52674354]\n",
            "Hệ số hàm log(n):  [3.11369506e+08]\n",
            "Hệ số hàm N:  [7624.95959831]\n",
            "Hệ số hàm nlog(n):  [400.42124997]\n",
            "Hệ số hàm n^2:  [0.01409423]\n"
          ],
          "name": "stdout"
        }
      ]
    }
  ]
}