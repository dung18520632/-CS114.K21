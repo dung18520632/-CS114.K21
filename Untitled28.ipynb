{
  "nbformat": 4,
  "nbformat_minor": 0,
  "metadata": {
    "colab": {
      "name": "Untitled28.ipynb",
      "provenance": [],
      "collapsed_sections": [],
      "authorship_tag": "ABX9TyPbX2TTEJPrL7wMw0x1VsZC",
      "include_colab_link": true
    },
    "kernelspec": {
      "name": "python3",
      "display_name": "Python 3"
    }
  },
  "cells": [
    {
      "cell_type": "markdown",
      "metadata": {
        "id": "view-in-github",
        "colab_type": "text"
      },
      "source": [
        "<a href=\"https://colab.research.google.com/github/dung18520632/CS114.K21/blob/master/Untitled28.ipynb\" target=\"_parent\"><img src=\"https://colab.research.google.com/assets/colab-badge.svg\" alt=\"Open In Colab\"/></a>"
      ]
    },
    {
      "cell_type": "code",
      "metadata": {
        "id": "pCb6b2x0by6k"
      },
      "source": [
        "import pandas as pd "
      ],
      "execution_count": 21,
      "outputs": []
    },
    {
      "cell_type": "code",
      "metadata": {
        "id": "ptoLYw2-cg-t",
        "outputId": "ddf261b6-3435-42dd-f411-bc551df64884",
        "colab": {
          "base_uri": "https://localhost:8080/",
          "height": 293
        }
      },
      "source": [
        "data=pd.read_csv('/content/data (2).csv')\n",
        "data.columns=['sizes','operations']\n",
        "import matplotlib.pyplot as plt\n",
        "plt.scatter(data['sizes'],data['operations'])\n"
      ],
      "execution_count": 22,
      "outputs": [
        {
          "output_type": "execute_result",
          "data": {
            "text/plain": [
              "<matplotlib.collections.PathCollection at 0x7f5d765795c0>"
            ]
          },
          "metadata": {
            "tags": []
          },
          "execution_count": 22
        },
        {
          "output_type": "display_data",
          "data": {
            "image/png": "[encoded data removed]",
            "text/plain": [
              "<Figure size 432x288 with 1 Axes>"
            ]
          },
          "metadata": {
            "tags": [],
            "needs_background": "light"
          }
        }
      ]
    },
    {
      "cell_type": "code",
      "metadata": {
        "id": "VEaFbLNumPWe",
        "outputId": "b3ce3304-0470-4b5b-9723-4b73bb78aa36",
        "colab": {
          "base_uri": "https://localhost:8080/",
          "height": 1000
        }
      },
      "source": [
        "import numpy as np\n",
        "\n",
        "X_= data['sizes'].values.reshape(-1,1)\n",
        "print(X_)\n",
        "X_ = np.log2(X_)\n",
        "print(X_)"
      ],
      "execution_count": 23,
      "outputs": [
        {
          "output_type": "stream",
          "text": [
            "[[   223]\n",
            " [   245]\n",
            " [   269]\n",
            " [   295]\n",
            " [   324]\n",
            " [   356]\n",
            " [   391]\n",
            " [   430]\n",
            " [   473]\n",
            " [   520]\n",
            " [   572]\n",
            " [   629]\n",
            " [   691]\n",
            " [   760]\n",
            " [   836]\n",
            " [   919]\n",
            " [  1010]\n",
            " [  1111]\n",
            " [  1222]\n",
            " [  1344]\n",
            " [  1478]\n",
            " [  1625]\n",
            " [  1787]\n",
            " [  1965]\n",
            " [  2161]\n",
            " [  2377]\n",
            " [  2614]\n",
            " [  2875]\n",
            " [  3162]\n",
            " [  3478]\n",
            " [  3825]\n",
            " [  4207]\n",
            " [  4627]\n",
            " [  5089]\n",
            " [  5597]\n",
            " [  6156]\n",
            " [  6771]\n",
            " [  7448]\n",
            " [  8192]\n",
            " [  9011]\n",
            " [  9912]\n",
            " [ 10903]\n",
            " [ 11993]\n",
            " [ 13192]\n",
            " [ 14511]\n",
            " [ 15962]\n",
            " [ 17558]\n",
            " [ 19313]\n",
            " [ 21244]\n",
            " [ 23368]\n",
            " [ 25704]\n",
            " [ 28274]\n",
            " [ 31101]\n",
            " [ 34211]\n",
            " [ 37632]\n",
            " [ 41395]\n",
            " [ 45534]\n",
            " [ 50087]\n",
            " [ 55095]\n",
            " [ 60604]\n",
            " [ 66664]\n",
            " [ 73330]\n",
            " [ 80663]\n",
            " [ 88729]\n",
            " [ 97601]\n",
            " [107361]\n",
            " [118097]\n",
            " [129906]\n",
            " [142896]\n",
            " [157185]\n",
            " [172903]\n",
            " [190193]\n",
            " [209212]\n",
            " [230133]\n",
            " [253146]\n",
            " [278460]\n",
            " [306306]\n",
            " [336936]\n",
            " [370629]\n",
            " [407691]\n",
            " [448460]\n",
            " [493306]]\n",
            "[[ 7.8008999 ]\n",
            " [ 7.93663794]\n",
            " [ 8.07146236]\n",
            " [ 8.20457114]\n",
            " [ 8.33985   ]\n",
            " [ 8.47573343]\n",
            " [ 8.6110248 ]\n",
            " [ 8.74819285]\n",
            " [ 8.88569637]\n",
            " [ 9.02236781]\n",
            " [ 9.15987134]\n",
            " [ 9.29691621]\n",
            " [ 9.4325419 ]\n",
            " [ 9.56985561]\n",
            " [ 9.70735913]\n",
            " [ 9.84392105]\n",
            " [ 9.98013958]\n",
            " [10.1176431 ]\n",
            " [10.25502857]\n",
            " [10.39231742]\n",
            " [10.52943055]\n",
            " [10.666224  ]\n",
            " [10.80332392]\n",
            " [10.9403136 ]\n",
            " [11.07748336]\n",
            " [11.21492619]\n",
            " [11.35204343]\n",
            " [11.48934624]\n",
            " [11.62662165]\n",
            " [11.76404222]\n",
            " [11.90124403]\n",
            " [12.0385761 ]\n",
            " [12.17586138]\n",
            " [12.31316648]\n",
            " [12.45043803]\n",
            " [12.58777752]\n",
            " [12.7251532 ]\n",
            " [12.86263736]\n",
            " [13.        ]\n",
            " [13.1374715 ]\n",
            " [13.27496047]\n",
            " [13.41243753]\n",
            " [13.54990497]\n",
            " [13.68737568]\n",
            " [13.82485932]\n",
            " [13.96235381]\n",
            " [14.0998409 ]\n",
            " [14.23728466]\n",
            " [14.37476781]\n",
            " [14.51224664]\n",
            " [14.64970527]\n",
            " [14.78718838]\n",
            " [14.92467335]\n",
            " [15.06217265]\n",
            " [15.19967234]\n",
            " [15.3371689 ]\n",
            " [15.47465658]\n",
            " [15.61214858]\n",
            " [15.74963378]\n",
            " [15.8871254 ]\n",
            " [16.02462026]\n",
            " [16.16211592]\n",
            " [16.29961944]\n",
            " [16.43711809]\n",
            " [16.57460831]\n",
            " [16.71211049]\n",
            " [16.84961279]\n",
            " [16.98710854]\n",
            " [17.12460601]\n",
            " [17.26210402]\n",
            " [17.39960338]\n",
            " [17.53710462]\n",
            " [17.67460608]\n",
            " [17.81210835]\n",
            " [17.94961016]\n",
            " [18.08711058]\n",
            " [18.2246141 ]\n",
            " [18.36211506]\n",
            " [18.49961624]\n",
            " [18.63711658]\n",
            " [18.77461979]\n",
            " [18.91212331]]\n"
          ],
          "name": "stdout"
        }
      ]
    },
    {
      "cell_type": "code",
      "metadata": {
        "id": "5Ib_yjyLnFNF",
        "outputId": "dc5f503e-f705-4a4d-99f9-9c998c752934",
        "colab": {
          "base_uri": "https://localhost:8080/",
          "height": 34
        }
      },
      "source": [
        "from sklearn.linear_model import LinearRegression\n",
        "\n",
        "regr = LinearRegression()\n",
        "\n",
        "regr.fit(X_, data['operations'])\n",
        "print(regr.coef_)"
      ],
      "execution_count": 24,
      "outputs": [
        {
          "output_type": "stream",
          "text": [
            "[3.11946535e+08]\n"
          ],
          "name": "stdout"
        }
      ]
    },
    {
      "cell_type": "code",
      "metadata": {
        "id": "w5lwn_otq2KP",
        "outputId": "9483dac9-2553-4d4a-db94-cb0858e3edff",
        "colab": {
          "base_uri": "https://localhost:8080/",
          "height": 34
        }
      },
      "source": [
        ""
      ],
      "execution_count": 20,
      "outputs": [
        {
          "output_type": "stream",
          "text": [
            "4.0\n"
          ],
          "name": "stdout"
        }
      ]
    }
  ]
}