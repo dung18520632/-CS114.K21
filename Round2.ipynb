{
  "nbformat": 4,
  "nbformat_minor": 0,
  "metadata": {
    "colab": {
      "name": "Round2.ipynb",
      "provenance": [],
      "mount_file_id": "1fYw53X0buROd-LxXUrv2BgtT5oeuhRuX",
      "authorship_tag": "ABX9TyOF0IxNI3n/MUHVb3jvbYJy",
      "include_colab_link": true
    },
    "kernelspec": {
      "name": "python3",
      "display_name": "Python 3"
    }
  },
  "cells": [
    {
      "cell_type": "markdown",
      "metadata": {
        "id": "view-in-github",
        "colab_type": "text"
      },
      "source": [
        "<a href=\"https://colab.research.google.com/github/dung18520632/CS114.K21/blob/master/Round2.ipynb\" target=\"_parent\"><img src=\"https://colab.research.google.com/assets/colab-badge.svg\" alt=\"Open In Colab\"/></a>"
      ]
    },
    {
      "cell_type": "code",
      "metadata": {
        "id": "JlvsF_1Nt_F-",
        "colab_type": "code",
        "colab": {}
      },
      "source": [
        "import pandas as pd\n",
        "import matplotlib.pyplot as plt\n",
        "import random\n",
        "from sklearn.model_selection import train_test_split\n",
        "from sklearn.linear_model import LinearRegression\n",
        "import numpy as np\n",
        "from sklearn.metrics import mean_squared_error, r2_score"
      ],
      "execution_count": 0,
      "outputs": []
    },
    {
      "cell_type": "markdown",
      "metadata": {
        "id": "CDbBzxgVuo7v",
        "colab_type": "text"
      },
      "source": [
        "# I. Lấy dữ liệu"
      ]
    },
    {
      "cell_type": "markdown",
      "metadata": {
        "id": "lALCBbpsu1Y6",
        "colab_type": "text"
      },
      "source": [
        "1.Tải file data.csv lên Drive."
      ]
    },
    {
      "cell_type": "code",
      "metadata": {
        "id": "eMCMaizIuWAI",
        "colab_type": "code",
        "colab": {}
      },
      "source": [
        "time_df = pd.read_csv('/content/drive/My Drive/Colab Notebooks/data.csv', names=[\"size\", \"time\"])\n"
      ],
      "execution_count": 0,
      "outputs": []
    },
    {
      "cell_type": "markdown",
      "metadata": {
        "id": "TQ7658W-vhXz",
        "colab_type": "text"
      },
      "source": [
        "# II.Chọn Model là linear regression"
      ]
    },
    {
      "cell_type": "markdown",
      "metadata": {
        "id": "tqqEThYVvqVf",
        "colab_type": "text"
      },
      "source": [
        "# 1.Trước khi chia dữ liệu thành tập dữ liệu để train - test, chúng ta cần chia dữ liệu thành hai giá trị : giá trị đích và giá trị dự báo.\n",
        "\n",
        "1.   X=All other features\n",
        "2.   Y=Predict time\n"
      ]
    },
    {
      "cell_type": "code",
      "metadata": {
        "id": "EVSyQcHDvZgS",
        "colab_type": "code",
        "colab": {
          "base_uri": "https://localhost:8080/",
          "height": 118
        },
        "outputId": "18da55ff-9c5f-4a1f-d978-2ced870623be"
      },
      "source": [
        "size = time_df['size'].astype(float)\n",
        "X=time_df.drop('time', axis = 1)\n",
        "Y = time_df['time']\n",
        "print(time_df.head(5))"
      ],
      "execution_count": 7,
      "outputs": [
        {
          "output_type": "stream",
          "text": [
            "      size      time\n",
            "0  6083695  0.521842\n",
            "1  1954367  0.152648\n",
            "2  3734185  0.298548\n",
            "3  5839301  0.460480\n",
            "4  6343427  0.527977\n"
          ],
          "name": "stdout"
        }
      ]
    },
    {
      "cell_type": "markdown",
      "metadata": {
        "id": "GwzEXhp0wc-O",
        "colab_type": "text"
      },
      "source": [
        "# 2.Chia tập dữ liệu thành 2 phần. 80% để train và 20% để test"
      ]
    },
    {
      "cell_type": "code",
      "metadata": {
        "id": "LiJCN8JuuhZ9",
        "colab_type": "code",
        "colab": {
          "base_uri": "https://localhost:8080/",
          "height": 118
        },
        "outputId": "c01e5e2e-c2ef-4afc-a574-e7555643f994"
      },
      "source": [
        "X_train, X_test, y_train, y_test = train_test_split(X, Y, test_size=0.2, random_state=0)\n",
        "print(X_test[:5])\n"
      ],
      "execution_count": 10,
      "outputs": [
        {
          "output_type": "stream",
          "text": [
            "          size\n",
            "15937  2661626\n",
            "26460  7548278\n",
            "33134  2316651\n",
            "25574  1977028\n",
            "31592  6337478\n"
          ],
          "name": "stdout"
        }
      ]
    },
    {
      "cell_type": "code",
      "metadata": {
        "id": "QIPYt3Ouujn-",
        "colab_type": "code",
        "colab": {
          "base_uri": "https://localhost:8080/",
          "height": 50
        },
        "outputId": "481d4ecf-8365-491f-afd9-761eb54976b7"
      },
      "source": [
        "from sklearn.linear_model import LinearRegression\n",
        "\n",
        "lm = LinearRegression()\n",
        "lm.fit(X_train, y_train)\n",
        "\n",
        "Y_pred = lm.predict(X_test)\n",
        "print('weight: ', lm.coef_)\n",
        "print('bias: ',lm.intercept_)"
      ],
      "execution_count": 11,
      "outputs": [
        {
          "output_type": "stream",
          "text": [
            "weight:  [8.45606811e-08]\n",
            "bias:  -0.015924338304915187\n"
          ],
          "name": "stdout"
        }
      ]
    },
    {
      "cell_type": "markdown",
      "metadata": {
        "id": "mSxIAhcqw-5k",
        "colab_type": "text"
      },
      "source": [
        "Khả năng dự đoán tốt. Dựa vào mean_squared_error"
      ]
    },
    {
      "cell_type": "code",
      "metadata": {
        "id": "50Czro0Zw1aX",
        "colab_type": "code",
        "colab": {
          "base_uri": "https://localhost:8080/",
          "height": 50
        },
        "outputId": "1798f520-05b8-4432-b49f-9607b8fb49a8"
      },
      "source": [
        "# Print test error\n",
        "print('Mean squared error: %.4f' % mean_squared_error(y_test, Y_pred))\n",
        "# The coefficient of determination: 1 is perfect prediction\n",
        "print('Coefficient of determination: %.2f' % r2_score(y_test, Y_pred))"
      ],
      "execution_count": 13,
      "outputs": [
        {
          "output_type": "stream",
          "text": [
            "Mean squared error: 0.0002\n",
            "Coefficient of determination: 1.00\n"
          ],
          "name": "stdout"
        }
      ]
    }
  ]
}