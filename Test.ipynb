{
  "nbformat": 4,
  "nbformat_minor": 0,
  "metadata": {
    "colab": {
      "name": "Untitled10.ipynb",
      "provenance": [],
      "authorship_tag": "ABX9TyPvJ7bBT+WeWyP8RshgdpAw",
      "include_colab_link": true
    },
    "kernelspec": {
      "name": "python3",
      "display_name": "Python 3"
    }
  },
  "cells": [
    {
      "cell_type": "markdown",
      "metadata": {
        "id": "view-in-github",
        "colab_type": "text"
      },
      "source": [
        "<a href=\"https://colab.research.google.com/github/dung18520632/CS114.K21/blob/master/Test.ipynb\" target=\"_parent\"><img src=\"https://colab.research.google.com/assets/colab-badge.svg\" alt=\"Open In Colab\"/></a>"
      ]
    },
    {
      "cell_type": "code",
      "metadata": {
        "id": "EedyG0ts5fjH",
        "colab_type": "code",
        "colab": {}
      },
      "source": [
        "from newspaper import Article"
      ],
      "execution_count": null,
      "outputs": []
    },
    {
      "cell_type": "code",
      "metadata": {
        "id": "-Y0P06d46Xag",
        "colab_type": "code",
        "colab": {
          "base_uri": "https://localhost:8080/",
          "height": 402
        },
        "outputId": "3d5b6bec-6a2b-4905-8a59-513260ee64fe"
      },
      "source": [
        "import pandas as pd\n",
        "pf=pd.read_csv(\"/content/drive/My Drive/Colab Notebooks/dataminer .csv\",encoding= 'unicode_escape',names=[\"headline\", \"is_sarcastic\"])\n",
        "pf[\"is_sarcastic\"]=0\n",
        "pf.head(1000)\n"
      ],
      "execution_count": 57,
      "outputs": [
        {
          "output_type": "execute_result",
          "data": {
            "text/html": [
              "<div>\n",
              "<style scoped>\n",
              "    .dataframe tbody tr th:only-of-type {\n",
              "        vertical-align: middle;\n",
              "    }\n",
              "\n",
              "    .dataframe tbody tr th {\n",
              "        vertical-align: top;\n",
              "    }\n",
              "\n",
              "    .dataframe thead th {\n",
              "        text-align: right;\n",
              "    }\n",
              "</style>\n",
              "<table border=\"1\" class=\"dataframe\">\n",
              "  <thead>\n",
              "    <tr style=\"text-align: right;\">\n",
              "      <th></th>\n",
              "      <th>headline</th>\n",
              "      <th>is_sarcastic</th>\n",
              "    </tr>\n",
              "  </thead>\n",
              "  <tbody>\n",
              "    <tr>\n",
              "      <th>0</th>\n",
              "      <td>After Weeks Of Anticipation, Trump Rally Crowd...</td>\n",
              "      <td>0</td>\n",
              "    </tr>\n",
              "    <tr>\n",
              "      <th>1</th>\n",
              "      <td>Trump Camp Lashes Media, 'Radical Protesters' ...</td>\n",
              "      <td>0</td>\n",
              "    </tr>\n",
              "    <tr>\n",
              "      <th>2</th>\n",
              "      <td>Trump Fires U.S. Attorney Who Led Probes Of Th...</td>\n",
              "      <td>0</td>\n",
              "    </tr>\n",
              "    <tr>\n",
              "      <th>3</th>\n",
              "      <td>Public Enemy Tells 'Dictator' Trump To ?Shut T...</td>\n",
              "      <td>0</td>\n",
              "    </tr>\n",
              "    <tr>\n",
              "      <th>4</th>\n",
              "      <td>Who Owns A River? The Question Is Tearing This...</td>\n",
              "      <td>0</td>\n",
              "    </tr>\n",
              "    <tr>\n",
              "      <th>...</th>\n",
              "      <td>...</td>\n",
              "      <td>...</td>\n",
              "    </tr>\n",
              "    <tr>\n",
              "      <th>995</th>\n",
              "      <td>Former Minneapolis Mayor: Democrats ?Shouldn?t...</td>\n",
              "      <td>0</td>\n",
              "    </tr>\n",
              "    <tr>\n",
              "      <th>996</th>\n",
              "      <td>North Carolina Dog Didn't Have Coronavirus Aft...</td>\n",
              "      <td>0</td>\n",
              "    </tr>\n",
              "    <tr>\n",
              "      <th>997</th>\n",
              "      <td>D.C. Man Who Opened Door To Protesters: I Hope...</td>\n",
              "      <td>0</td>\n",
              "    </tr>\n",
              "    <tr>\n",
              "      <th>998</th>\n",
              "      <td>Washington Archbishop Condemns Trump's Visit T...</td>\n",
              "      <td>0</td>\n",
              "    </tr>\n",
              "    <tr>\n",
              "      <th>999</th>\n",
              "      <td>Big Oil Wanted Changes To Worker Safety Rule. ...</td>\n",
              "      <td>0</td>\n",
              "    </tr>\n",
              "  </tbody>\n",
              "</table>\n",
              "<p>1000 rows × 2 columns</p>\n",
              "</div>"
            ],
            "text/plain": [
              "                                              headline  is_sarcastic\n",
              "0    After Weeks Of Anticipation, Trump Rally Crowd...             0\n",
              "1    Trump Camp Lashes Media, 'Radical Protesters' ...             0\n",
              "2    Trump Fires U.S. Attorney Who Led Probes Of Th...             0\n",
              "3    Public Enemy Tells 'Dictator' Trump To ?Shut T...             0\n",
              "4    Who Owns A River? The Question Is Tearing This...             0\n",
              "..                                                 ...           ...\n",
              "995  Former Minneapolis Mayor: Democrats ?Shouldn?t...             0\n",
              "996  North Carolina Dog Didn't Have Coronavirus Aft...             0\n",
              "997  D.C. Man Who Opened Door To Protesters: I Hope...             0\n",
              "998  Washington Archbishop Condemns Trump's Visit T...             0\n",
              "999  Big Oil Wanted Changes To Worker Safety Rule. ...             0\n",
              "\n",
              "[1000 rows x 2 columns]"
            ]
          },
          "metadata": {
            "tags": []
          },
          "execution_count": 57
        }
      ]
    }
  ]
}