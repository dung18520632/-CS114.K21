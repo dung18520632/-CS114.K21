{
  "nbformat": 4,
  "nbformat_minor": 0,
  "metadata": {
    "colab": {
      "name": "Untitled30.ipynb",
      "provenance": [],
      "collapsed_sections": [],
      "authorship_tag": "ABX9TyP4ZAGyHQZD+nLxkK9fG5iv",
      "include_colab_link": true
    },
    "kernelspec": {
      "name": "python3",
      "display_name": "Python 3"
    }
  },
  "cells": [
    {
      "cell_type": "markdown",
      "metadata": {
        "id": "view-in-github",
        "colab_type": "text"
      },
      "source": [
        "<a href=\"https://colab.research.google.com/github/dung18520632/CS114.K21/blob/master/Bai1_Collectdata.ipynb\" target=\"_parent\"><img src=\"https://colab.research.google.com/assets/colab-badge.svg\" alt=\"Open In Colab\"/></a>"
      ]
    },
    {
      "cell_type": "code",
      "metadata": {
        "id": "7K_oRIiugwKU"
      },
      "source": [
        "t = []\n",
        "while True:\n",
        "  try:\n",
        "    i = input()\n",
        "    t.append(i)\n",
        "  except:\n",
        "    break\n",
        "def tree(key):\n",
        "  r = len(key)\n",
        "  m = r//2\n",
        "  if r<1:\n",
        "    return\n",
        "  tree(key[:m])\n",
        "  tree(key[m+1:])\n",
        "  print(key[m])\n",
        "  return\n"
      ],
      "execution_count": null,
      "outputs": []
    },
    {
      "cell_type": "code",
      "metadata": {
        "id": "B3tNCg5Pg8K6"
      },
      "source": [
        "import cProfile\n",
        "import numpy as np\n",
        "randnums= np.random.randint(1,1000,1000)\n",
        "randnums.sort()\n",
        "cProfile.run('tree(randnums)')"
      ],
      "execution_count": null,
      "outputs": []
    }
  ]
}